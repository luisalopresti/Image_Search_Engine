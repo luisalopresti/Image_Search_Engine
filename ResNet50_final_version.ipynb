{
 "cells": [
  {
   "cell_type": "markdown",
   "metadata": {
    "id": "-pKIKOnSXQBA"
   },
   "source": [
    "##**AML competition:**\n",
    "\n",
    "**match the images in a query set with the images in a much larger set called gallery.**"
   ]
  },
  {
   "cell_type": "markdown",
   "metadata": {
    "id": "g9vYoFKeyKqT"
   },
   "source": [
    "**ResNet50 versions:**\n",
    "\n",
    "this code has two parts: in the first part we check how the pre-trained model works, we extract the features and try to match images from the query to the gallery images. \n",
    "After this initial exploration, in the second and most important part, we fit the model, adding to it some layers, and produce a dictionary of matching images."
   ]
  },
  {
   "cell_type": "markdown",
   "metadata": {
    "id": "uJeygSXVysJ9"
   },
   "source": [
    "**FIRST PART**"
   ]
  },
  {
   "cell_type": "markdown",
   "metadata": {
    "id": "44saoriaX2Lp"
   },
   "source": [
    "Import the necessary libraries."
   ]
  },
  {
   "cell_type": "code",
   "execution_count": null,
   "metadata": {
    "id": "TIUSXffrEc_Q"
   },
   "outputs": [],
   "source": [
    "import numpy as np\n",
    "from numpy.linalg import norm\n",
    "from tqdm import tqdm, tqdm_notebook\n",
    "import os\n",
    "import cv2\n",
    "import random\n",
    "import time\n",
    "import math\n",
    "import tensorflow\n",
    "from tensorflow.keras.preprocessing import image\n",
    "from tensorflow.keras.preprocessing.image import ImageDataGenerator\n",
    "from tensorflow.keras.applications.resnet50 import ResNet50, preprocess_input\n",
    "from tensorflow.keras.applications.vgg16 import VGG16\n",
    "from tensorflow.keras.applications.xception import Xception\n",
    "from tensorflow.keras.models import Model\n",
    "from tensorflow.keras.layers import Input, Flatten, Dense, Dropout"
   ]
  },
  {
   "cell_type": "markdown",
   "metadata": {
    "id": "P7SVQtkIX8WS"
   },
   "source": [
    "Use the colab GPU for faster execution of the code."
   ]
  },
  {
   "cell_type": "code",
   "execution_count": null,
   "metadata": {
    "colab": {
     "base_uri": "https://localhost:8080/"
    },
    "executionInfo": {
     "elapsed": 684,
     "status": "ok",
     "timestamp": 1622717354971,
     "user": {
      "displayName": "Luisa Lo Presti",
      "photoUrl": "",
      "userId": "07632180622428791645"
     },
     "user_tz": -120
    },
    "id": "vWD055ikV8Uw",
    "outputId": "a269a3d8-652a-47f4-e22b-0364c7ba0d91"
   },
   "outputs": [
    {
     "name": "stdout",
     "output_type": "stream",
     "text": [
      "Found GPU at: /device:GPU:0\n"
     ]
    }
   ],
   "source": [
    "#must put the notebook setting on GPU first\n",
    "%tensorflow_version 2.x\n",
    "import tensorflow as tf\n",
    "device_name = tf.test.gpu_device_name()\n",
    "if device_name != '/device:GPU:0':\n",
    "  raise SystemError('GPU device not found')\n",
    "print('Found GPU at: {}'.format(device_name))"
   ]
  },
  {
   "cell_type": "markdown",
   "metadata": {
    "id": "019DoYjuYH1o"
   },
   "source": [
    "Connect colab to google drive, where the dataset with all the images is saved."
   ]
  },
  {
   "cell_type": "code",
   "execution_count": null,
   "metadata": {
    "colab": {
     "base_uri": "https://localhost:8080/"
    },
    "executionInfo": {
     "elapsed": 1232,
     "status": "ok",
     "timestamp": 1622717815347,
     "user": {
      "displayName": "Luisa Lo Presti",
      "photoUrl": "",
      "userId": "07632180622428791645"
     },
     "user_tz": -120
    },
    "id": "8mhy0pF9Eq3D",
    "outputId": "b5e3274b-43f3-41d1-9ef9-e68890dd7cea"
   },
   "outputs": [
    {
     "name": "stdout",
     "output_type": "stream",
     "text": [
      "Mounted at /content/drive\n",
      "['drive/MyDrive/AML_Challenge/dataset_senza_aug/training', 'drive/MyDrive/AML_Challenge/dataset_senza_aug/validation', 'drive/MyDrive/AML_Challenge/dataset_senza_aug/siamese_checkpoints', 'drive/MyDrive/AML_Challenge/dataset_senza_aug/test']\n"
     ]
    }
   ],
   "source": [
    "import sys \n",
    "from google.colab import drive \n",
    "import glob\n",
    "\n",
    "path = \"/content/drive\" \n",
    "drive.mount(path, force_remount=True)  \n",
    "data_path = \"drive/MyDrive/AML_Challenge/dataset\" \n",
    "\n",
    "myfiles = glob.glob(os.path.join(data_path, '*')) \n",
    "print(myfiles)"
   ]
  },
  {
   "cell_type": "markdown",
   "metadata": {
    "id": "1hRpc3WMYREX"
   },
   "source": [
    "Define class Dataset and get training, query and gallery paths."
   ]
  },
  {
   "cell_type": "code",
   "execution_count": null,
   "metadata": {
    "colab": {
     "base_uri": "https://localhost:8080/"
    },
    "executionInfo": {
     "elapsed": 473,
     "status": "ok",
     "timestamp": 1622717378292,
     "user": {
      "displayName": "Luisa Lo Presti",
      "photoUrl": "",
      "userId": "07632180622428791645"
     },
     "user_tz": -120
    },
    "id": "x5H0E3F-GWBb",
    "outputId": "bade705b-9a7c-4127-9c99-c8a8c9b30aae"
   },
   "outputs": [
    {
     "name": "stdout",
     "output_type": "stream",
     "text": [
      "Loaded 697 from drive/MyDrive/AML_Challenge/dataset_senza_aug/training images\n",
      "Loaded 534 from drive/MyDrive/AML_Challenge/dataset_senza_aug/validation/gallery images\n",
      "Loaded 70 from drive/MyDrive/AML_Challenge/dataset_senza_aug/validation/query images\n"
     ]
    }
   ],
   "source": [
    "class Dataset(object):\n",
    "    def __init__(self, data_path):\n",
    "        self.data_path = data_path\n",
    "        assert os.path.exists(self.data_path), 'Insert a valid path!'\n",
    "\n",
    "        # get class list\n",
    "        self.data_classes = os.listdir(self.data_path)\n",
    "\n",
    "        # init mapping dict\n",
    "        self.data_mapping = {}\n",
    "\n",
    "        # populate mapping dict\n",
    "        for c, c_name in enumerate(self.data_classes):\n",
    "            temp_path = os.path.join(self.data_path, c_name)\n",
    "            temp_images = os.listdir(temp_path)\n",
    "\n",
    "            for i in temp_images:\n",
    "                img_tmp = os.path.join(temp_path, i)\n",
    "\n",
    "                if img_tmp.endswith('.jpg'):\n",
    "                    if c_name == 'distractor':\n",
    "                        self.data_mapping[img_tmp] = -1\n",
    "                    else:\n",
    "                        self.data_mapping[img_tmp] = int(c_name)\n",
    "\n",
    "        print('Loaded {:d} from {:s} images'.format(len(self.data_mapping.keys()),\n",
    "                                                    self.data_path))\n",
    "\n",
    "    def get_data_paths(self):\n",
    "        # returns a list of images paths and related classes\n",
    "        images = []\n",
    "        classes = []\n",
    "        for img_path in self.data_mapping.keys():\n",
    "            if img_path.endswith('.jpg'):\n",
    "                images.append(img_path)\n",
    "                classes.append(self.data_mapping[img_path])\n",
    "        return images, np.array(classes)\n",
    "\n",
    "\n",
    "    def num_classes(self):\n",
    "        # returns number of classes of the dataset\n",
    "        return len(self.data_classes)\n",
    "\n",
    "\n",
    "\n",
    "\n",
    "# dataset folder has inside two folders: training and validation\n",
    "# the validation one contains the query and gallery folders\n",
    "\n",
    "validation_path = os.path.join(data_path, 'validation')\n",
    "gallery_path = os.path.join(validation_path, 'gallery')\n",
    "query_path = os.path.join(validation_path, 'query')\n",
    "training_path = os.path.join(data_path, \"training\") \n",
    "\n",
    "training_dataset = Dataset(data_path = training_path)\n",
    "gallery_dataset = Dataset(data_path=gallery_path)\n",
    "query_dataset = Dataset(data_path=query_path)\n",
    "\n",
    "# get training data and classes\n",
    "training_paths, training_classes = training_dataset.get_data_paths()\n",
    "\n",
    "# get validation gallery and query data\n",
    "gallery_paths, gallery_classes = gallery_dataset.get_data_paths()\n",
    "query_paths, query_classes = query_dataset.get_data_paths()\n"
   ]
  },
  {
   "cell_type": "markdown",
   "metadata": {
    "id": "xDvDM6J-YVVR"
   },
   "source": [
    "Define the model to use. We tested several model, both by writing layer by layer ourselves and by taking the pre-trained model from the keras library (https://keras.io/api/applications/). We found that VGG16 and ResNet50 work equally well in our case and we chose to use the second one."
   ]
  },
  {
   "cell_type": "code",
   "execution_count": null,
   "metadata": {
    "id": "rPD9K5QhFDGX"
   },
   "outputs": [],
   "source": [
    "#ResNet50 is a convolutional Neural Network with 50 layers, pretrained on more than a million images from ImageNet. It requires as input images of dimension 224x224.\n",
    "\n",
    "model=ResNet50(weights='imagenet',\n",
    "                         include_top=False, #does not include a fully-connected layer at the top of the network\n",
    "                         input_shape=(224, 224, 3),\n",
    "                        pooling='max') #global max pooling"
   ]
  },
  {
   "cell_type": "markdown",
   "metadata": {
    "id": "vrPyyNvFZDNw"
   },
   "source": [
    "Using keras, we firstly defined the ImageDataGenerator function, which specify all the modifications we want to make to our training images in order to add some noises and make it more challenging to associate query and gallery images."
   ]
  },
  {
   "cell_type": "code",
   "execution_count": null,
   "metadata": {
    "id": "CDZ4886d4eo4"
   },
   "outputs": [],
   "source": [
    "datagen = ImageDataGenerator(\n",
    "    featurewise_center=False, #set input mean to zero if True\n",
    "    samplewise_center=True, #set each sample mean to zero\n",
    "    featurewise_std_normalization=False, #divide inputs by sd of the dataset\n",
    "    samplewise_std_normalization=True, #divide each input by its sd \n",
    "    rotation_range=20, #degree range for random rotation\n",
    "    width_shift_range=0.3, #range as a fraction of total width within which to randomly translate pictures vertically \n",
    "    height_shift_range=0.3, #ranges as a fraction of total height within which to randomly translate pictures horizontally\n",
    "    brightness_range=None,\n",
    "    zoom_range=0.3,\n",
    "    fill_mode=\"nearest\",\n",
    "    rescale=None, #all data are multiplied by specified value if given\n",
    "    preprocessing_function=None, #preprocessing function to execute after the image is resized and augmented (input must be numpy tensor with rank 3)\n",
    "    data_format=None \n",
    ")\n"
   ]
  },
  {
   "cell_type": "markdown",
   "metadata": {
    "id": "JCKP8belwIt6"
   },
   "source": [
    "The following code produces augmented images by applying the modifications defined above to the training images. The augmented images are then saved in the folder corresponding to their belonging class."
   ]
  },
  {
   "cell_type": "markdown",
   "metadata": {
    "id": "Xk7IsWMVZqsv"
   },
   "source": [
    "**NOTE**: this function has been already ran on our dataset, thus all the pictures have been augmented and the augmented images have been saved on the folder corresponding to their class. This function does not have to be ran again on our dataset since it would generate a lot of new images, augmenting also already augmented images and making the execution of the code much slower."
   ]
  },
  {
   "cell_type": "code",
   "execution_count": null,
   "metadata": {
    "id": "vYi6mny7KbZ9"
   },
   "outputs": [],
   "source": [
    "def augmented_img(training_paths):\n",
    "\n",
    "      input_shape = (224, 224, 3)\n",
    "      prep_img=[]\n",
    "      img_in_folder=os.listdir(training_paths) #list of images in the folder considered\n",
    "      for el in img_in_folder: \n",
    "        path=os.path.join(training_paths, el)\n",
    "        img = image.load_img(path, target_size=(input_shape[0], input_shape[1])) #read single image\n",
    "\n",
    "        img_array = image.img_to_array(img) #convert images in 3D arrays automatically \n",
    "        expanded_img_array = np.expand_dims(img_array, axis=0) #img_array has shape (None, 3) now; the first dimension need to be expanded (tensorflow)\n",
    "        preprocessed_img = preprocess_input(expanded_img_array) #images are converted from RGB to BGR (tensorflow)\n",
    "        prep_img.append(preprocessed_img)\n",
    "\n",
    "      #for each image given as input, five augmented images are generated:\n",
    "      for img in prep_img:\n",
    "        i = 0\n",
    "        for batch in datagen.flow(prep_img, \n",
    "                                  batch_size=1, \n",
    "                                  save_to_dir=training_paths,  \n",
    "                                  save_prefix='aug',\n",
    "                                  save_format='jpg'):    \n",
    "          i += 1    \n",
    "          if i > 5:  #5 image -> generates 5 augmented images     \n",
    "            break\n",
    "\n",
    "list_classes = set(training_classes)\n",
    "list_classes.remove(-1)\n",
    "list_classes.add('distractor')\n",
    "for el in list_classes:\n",
    "    folder = os.path.join(training_path, str(el))\n",
    "    augmented_img(folder)"
   ]
  },
  {
   "cell_type": "markdown",
   "metadata": {
    "id": "neb_kheaa1tE"
   },
   "source": [
    "For convenience, let's load again our training path, now containing both the original data and the augmented ones."
   ]
  },
  {
   "cell_type": "code",
   "execution_count": null,
   "metadata": {
    "colab": {
     "base_uri": "https://localhost:8080/"
    },
    "executionInfo": {
     "elapsed": 281,
     "status": "ok",
     "timestamp": 1622712730121,
     "user": {
      "displayName": "Luisa Lo Presti",
      "photoUrl": "",
      "userId": "07632180622428791645"
     },
     "user_tz": -120
    },
    "id": "G_d8pJcYyDMt",
    "outputId": "fd3d8393-03a9-4aa6-8990-b311a32f05ac"
   },
   "outputs": [
    {
     "name": "stdout",
     "output_type": "stream",
     "text": [
      "Loaded 697 from drive/MyDrive/AML_Challenge/dataset_senza_aug/training images\n"
     ]
    }
   ],
   "source": [
    "training_path = os.path.join(data_path, \"training\") \n",
    "training_dataset = Dataset(data_path = training_path)\n",
    "\n",
    "training_paths, training_classes = training_dataset.get_data_paths()"
   ]
  },
  {
   "cell_type": "markdown",
   "metadata": {
    "id": "prfLSc9WU0p_"
   },
   "source": [
    "The following function extracts the features from the images after pre-processing them. The images are firstly converted into arrays, which are then processed in order to be reduced into a tensor of one dimension. The features are then normalized and a list of all normalized features is returned. The features extraction strictly depends on the model chosen."
   ]
  },
  {
   "cell_type": "markdown",
   "metadata": {
    "id": "wj6N3hrVmyj6"
   },
   "source": [
    "**Note**: each keras pre-trained neural network requires a specific kind of preprocessing. The one used here is specific for ResNet50, as it is possible to notice in the first cell, when we imported the preprocess_input function from tf.keras.applications.resnet50"
   ]
  },
  {
   "cell_type": "code",
   "execution_count": null,
   "metadata": {
    "id": "kFEjWsPMFfbD"
   },
   "outputs": [],
   "source": [
    "def extract_features(training_paths, model):\n",
    "    input_shape = (224, 224, 3) #standard shape required by the keras model \n",
    "    nf=[]\n",
    "    for n in range(len(training_paths)):\n",
    "      img = image.load_img(training_paths[n],\n",
    "                          target_size=(input_shape[0], input_shape[1]))\n",
    "      img_array = image.img_to_array(img) #convert images in 3D arrays authomatically \n",
    "      expanded_img_array = np.expand_dims(img_array, axis=0) #img_array has shape (None, 3) now; the first dimension need to be expanded using this command\n",
    "      preprocessed_img = preprocess_input(expanded_img_array) #images are converted from RGB to BGR and then each channel is zero-centered with respect to the ImageNet dataset\n",
    "      features = model.predict(preprocessed_img) #extract features from the images \n",
    "      flattened_features = features.flatten() #collapse array into one dimension\n",
    "      normalized_features = flattened_features / norm(flattened_features) #normalize\n",
    "      nf.append(normalized_features)\n",
    "    return nf"
   ]
  },
  {
   "cell_type": "markdown",
   "metadata": {
    "id": "EsBX3UXRbQIQ"
   },
   "source": [
    "Now we can use the function defined above to extract the features from our query and gallery sets."
   ]
  },
  {
   "cell_type": "code",
   "execution_count": null,
   "metadata": {
    "id": "xyFc-_vyOFhG"
   },
   "outputs": [],
   "source": [
    "#normalized query features\n",
    "query_features = extract_features(query_paths, model)\n",
    "\n",
    "#normalized gallery features\n",
    "gallery_features = extract_features(gallery_paths, model)\n"
   ]
  },
  {
   "cell_type": "markdown",
   "metadata": {
    "id": "iIuUqkiRWCLE"
   },
   "source": [
    "The match_img function has the purpose of computing the euclidean distance between the query image given as input and the gallery images. The function then returns the top-5 results, namely the images representing, with the highest accuracy, the same subject as the one in the given query image."
   ]
  },
  {
   "cell_type": "code",
   "execution_count": null,
   "metadata": {
    "id": "elub4arQKLPJ"
   },
   "outputs": [],
   "source": [
    "def match_img(query_img_feat):\n",
    "  distance = np.linalg.norm(gallery_features - query_img_feat, axis=1) #vectorial distance\n",
    "  acc = np.argsort(distance)[:5]  #top 5 results\n",
    "  scores = [(distance[a], gallery_paths[a]) for a in acc] #rank the results\n",
    "  return (acc, scores)"
   ]
  },
  {
   "cell_type": "markdown",
   "metadata": {
    "id": "DD1zZU3FTsNB"
   },
   "source": [
    "Now we can use our model.\n",
    "We pass the features of a randomly chosen query image to the match_img function to check whether the computed association with the gallery images is correct."
   ]
  },
  {
   "cell_type": "code",
   "execution_count": null,
   "metadata": {
    "colab": {
     "base_uri": "https://localhost:8080/"
    },
    "executionInfo": {
     "elapsed": 364,
     "status": "ok",
     "timestamp": 1622707639228,
     "user": {
      "displayName": "Luisa Lo Presti",
      "photoUrl": "",
      "userId": "07632180622428791645"
     },
     "user_tz": -120
    },
    "id": "ziuoBFFkMRSG",
    "outputId": "b55a2e2f-440c-4691-947d-a6a2e6662f7e"
   },
   "outputs": [
    {
     "data": {
      "text/plain": [
       "(array([471, 467, 470, 473, 468]),\n",
       " [(0.6510603,\n",
       "   'drive/MyDrive/AML_Challenge/dataset/validation/gallery/6/ec50k_00060011.jpg'),\n",
       "  (0.6893744,\n",
       "   'drive/MyDrive/AML_Challenge/dataset/validation/gallery/6/ec50k_00060013.jpg'),\n",
       "  (0.7030033,\n",
       "   'drive/MyDrive/AML_Challenge/dataset/validation/gallery/6/ec50k_00060012.jpg'),\n",
       "  (0.70909005,\n",
       "   'drive/MyDrive/AML_Challenge/dataset/validation/gallery/6/ec50k_00060006.jpg'),\n",
       "  (0.7129083,\n",
       "   'drive/MyDrive/AML_Challenge/dataset/validation/gallery/6/ec50k_00060009.jpg')])"
      ]
     },
     "execution_count": 12,
     "metadata": {
      "tags": []
     },
     "output_type": "execute_result"
    }
   ],
   "source": [
    "match_img(query_features[20])"
   ]
  },
  {
   "cell_type": "markdown",
   "metadata": {
    "id": "AYgwypUQf-hX"
   },
   "source": [
    "Below we visualized the chosen query image to check whether it corresponds to the images belonging to class 6 in the gallery set, as the results above suggested. We found that the association is correct."
   ]
  },
  {
   "cell_type": "code",
   "execution_count": null,
   "metadata": {
    "colab": {
     "base_uri": "https://localhost:8080/",
     "height": 278
    },
    "executionInfo": {
     "elapsed": 1394,
     "status": "ok",
     "timestamp": 1621291391947,
     "user": {
      "displayName": "Luisa Lo Presti",
      "photoUrl": "",
      "userId": "07632180622428791645"
     },
     "user_tz": -120
    },
    "id": "oL1flYhDTrYw",
    "outputId": "c2d01eaf-9b29-4c43-a629-ade8d8f88e01"
   },
   "outputs": [
    {
     "data": {
      "text/plain": [
       "<matplotlib.image.AxesImage at 0x7f4cc5925650>"
      ]
     },
     "execution_count": 26,
     "metadata": {
      "tags": []
     },
     "output_type": "execute_result"
    },
    {
     "data": {
      "image/png": "[encoded data removed]",
      "text/plain": [
       "<Figure size 360x360 with 1 Axes>"
      ]
     },
     "metadata": {
      "needs_background": "light",
      "tags": []
     },
     "output_type": "display_data"
    }
   ],
   "source": [
    "import matplotlib.pyplot as plt\n",
    "import cv2\n",
    "plt.figure(figsize = (5,5))\n",
    "img = cv2.imread(query_paths[20])\n",
    "img = cv2.cvtColor(img, cv2.COLOR_BGR2RGB)\n",
    "plt.imshow(img)"
   ]
  },
  {
   "cell_type": "markdown",
   "metadata": {
    "id": "_Ty6E0AXT3k3"
   },
   "source": [
    "If compared with the results that we obtained before augmenting the data, the distances are way lower in some cases, as in the example below.\n",
    "However, the matching is always correct."
   ]
  },
  {
   "cell_type": "code",
   "execution_count": null,
   "metadata": {
    "colab": {
     "base_uri": "https://localhost:8080/"
    },
    "executionInfo": {
     "elapsed": 347,
     "status": "ok",
     "timestamp": 1622707659429,
     "user": {
      "displayName": "Luisa Lo Presti",
      "photoUrl": "",
      "userId": "07632180622428791645"
     },
     "user_tz": -120
    },
    "id": "cahHD47DkH1h",
    "outputId": "f5f37d99-4581-4333-ebd1-5b964cee0adc"
   },
   "outputs": [
    {
     "data": {
      "text/plain": [
       "(array([412, 409, 411, 408, 410]),\n",
       " [(0.4264267,\n",
       "   'drive/MyDrive/AML_Challenge/dataset/validation/gallery/4/ec50k_00040007.jpg'),\n",
       "  (0.4623438,\n",
       "   'drive/MyDrive/AML_Challenge/dataset/validation/gallery/4/ec50k_00040008.jpg'),\n",
       "  (0.50523967,\n",
       "   'drive/MyDrive/AML_Challenge/dataset/validation/gallery/4/ec50k_00040006.jpg'),\n",
       "  (0.5422174,\n",
       "   'drive/MyDrive/AML_Challenge/dataset/validation/gallery/4/ec50k_00040009.jpg'),\n",
       "  (0.6256152,\n",
       "   'drive/MyDrive/AML_Challenge/dataset/validation/gallery/4/ec50k_00040014.jpg')])"
      ]
     },
     "execution_count": 13,
     "metadata": {
      "tags": []
     },
     "output_type": "execute_result"
    }
   ],
   "source": [
    "match_img(query_features[14])"
   ]
  },
  {
   "cell_type": "code",
   "execution_count": null,
   "metadata": {
    "colab": {
     "base_uri": "https://localhost:8080/",
     "height": 340
    },
    "executionInfo": {
     "elapsed": 1078,
     "status": "ok",
     "timestamp": 1621287818138,
     "user": {
      "displayName": "Luisa Lo Presti",
      "photoUrl": "",
      "userId": "07632180622428791645"
     },
     "user_tz": -120
    },
    "id": "z-csunD5kLFQ",
    "outputId": "c075e8d4-efc1-4922-aedb-45b819e0864d"
   },
   "outputs": [
    {
     "data": {
      "text/plain": [
       "<matplotlib.image.AxesImage at 0x7fda57dee610>"
      ]
     },
     "execution_count": 31,
     "metadata": {
      "tags": []
     },
     "output_type": "execute_result"
    },
    {
     "data": {
      "image/png": "[encoded data removed]",
      "text/plain": [
       "<Figure size 360x360 with 1 Axes>"
      ]
     },
     "metadata": {
      "needs_background": "light",
      "tags": []
     },
     "output_type": "display_data"
    }
   ],
   "source": [
    "import matplotlib.pyplot as plt\n",
    "import cv2\n",
    "plt.figure(figsize = (5,5))\n",
    "img = cv2.imread(query_paths[14])\n",
    "img = cv2.cvtColor(img, cv2.COLOR_BGR2RGB)\n",
    "plt.imshow(img)\n",
    "\n",
    "#The chosen query image does belong to class 4."
   ]
  },
  {
   "cell_type": "markdown",
   "metadata": {
    "id": "JIhhmqijy4-B"
   },
   "source": [
    "**SECOND PART**"
   ]
  },
  {
   "cell_type": "code",
   "execution_count": null,
   "metadata": {
    "colab": {
     "base_uri": "https://localhost:8080/"
    },
    "executionInfo": {
     "elapsed": 2387,
     "status": "ok",
     "timestamp": 1622722888486,
     "user": {
      "displayName": "Luisa Lo Presti",
      "photoUrl": "",
      "userId": "07632180622428791645"
     },
     "user_tz": -120
    },
    "id": "6AXdHJPPy7Gd",
    "outputId": "3b62a35e-12b4-4319-8705-44f82d337239"
   },
   "outputs": [
    {
     "name": "stdout",
     "output_type": "stream",
     "text": [
      "Mounted at /content/drive\n",
      "['drive/MyDrive/AML_Challenge/dataset_senza_aug/training', 'drive/MyDrive/AML_Challenge/dataset_senza_aug/validation', 'drive/MyDrive/AML_Challenge/dataset_senza_aug/siamese_checkpoints', 'drive/MyDrive/AML_Challenge/dataset_senza_aug/test']\n"
     ]
    }
   ],
   "source": [
    "import sys \n",
    "from google.colab import drive \n",
    "import glob\n",
    "\n",
    "path = \"/content/drive\" \n",
    "drive.mount(path, force_remount=True)  \n",
    "data_path = \"drive/MyDrive/AML_Challenge/dataset_senza_aug\" \n",
    "\n",
    "myfiles = glob.glob(os.path.join(data_path, '*')) \n",
    "print(myfiles)"
   ]
  },
  {
   "cell_type": "code",
   "execution_count": null,
   "metadata": {
    "colab": {
     "base_uri": "https://localhost:8080/"
    },
    "executionInfo": {
     "elapsed": 280,
     "status": "ok",
     "timestamp": 1622722891498,
     "user": {
      "displayName": "Luisa Lo Presti",
      "photoUrl": "",
      "userId": "07632180622428791645"
     },
     "user_tz": -120
    },
    "id": "eJUmeGcG0W6v",
    "outputId": "97e80b99-6a08-465b-b145-5564f2c2bd01"
   },
   "outputs": [
    {
     "name": "stdout",
     "output_type": "stream",
     "text": [
      "Loaded 697 from drive/MyDrive/AML_Challenge/dataset_senza_aug/training images\n",
      "Loaded 534 from drive/MyDrive/AML_Challenge/dataset_senza_aug/validation/gallery images\n",
      "Loaded 70 from drive/MyDrive/AML_Challenge/dataset_senza_aug/validation/query images\n"
     ]
    }
   ],
   "source": [
    "#here we are using the class Dataset defined above, in the first part\n",
    "\n",
    "validation_path = os.path.join(data_path, 'validation')\n",
    "gallery_path = os.path.join(validation_path, 'gallery')\n",
    "query_path = os.path.join(validation_path, 'query')\n",
    "training_path = os.path.join(data_path, \"training\") \n",
    "\n",
    "training_dataset = Dataset(data_path = training_path)\n",
    "gallery_dataset = Dataset(data_path=gallery_path)\n",
    "query_dataset = Dataset(data_path=query_path)\n",
    "\n",
    "# get training data and classes\n",
    "training_paths, training_classes = training_dataset.get_data_paths()\n",
    "\n",
    "# get validation gallery and query data\n",
    "gallery_paths, gallery_classes = gallery_dataset.get_data_paths()\n",
    "query_paths, query_classes = query_dataset.get_data_paths()"
   ]
  },
  {
   "cell_type": "markdown",
   "metadata": {
    "id": "uaMPGn1R0uyZ"
   },
   "source": [
    "Taking advantage of ImageDataGenerator, we add some noises to the images and we pre-process them using the specific pre-processing function of the keras-defined ResNet50."
   ]
  },
  {
   "cell_type": "code",
   "execution_count": null,
   "metadata": {
    "id": "MLgzwCxiZC5y"
   },
   "outputs": [],
   "source": [
    "def generators(preprocessing): \n",
    "    '''\n",
    "    Create the training and validation datasets for \n",
    "    a given image shape.\n",
    "    '''\n",
    "    datagen = ImageDataGenerator(\n",
    "        preprocessing_function = preprocessing,\n",
    "        horizontal_flip = True, \n",
    "        validation_split = 0,\n",
    "    )\n",
    "\n",
    "\n",
    "    train_dataset = datagen.flow_from_directory(\n",
    "        training_path,\n",
    "        target_size = (224,224), \n",
    "        batch_size = 16,\n",
    "        subset = 'training', \n",
    "    )\n",
    "\n",
    "    return train_dataset"
   ]
  },
  {
   "cell_type": "code",
   "execution_count": null,
   "metadata": {
    "colab": {
     "base_uri": "https://localhost:8080/"
    },
    "executionInfo": {
     "elapsed": 400,
     "status": "ok",
     "timestamp": 1622723482139,
     "user": {
      "displayName": "Luisa Lo Presti",
      "photoUrl": "",
      "userId": "07632180622428791645"
     },
     "user_tz": -120
    },
    "id": "65PYKcifZCFn",
    "outputId": "5d50ec1a-f512-4938-f3e0-44c8d9fcbe9b"
   },
   "outputs": [
    {
     "name": "stdout",
     "output_type": "stream",
     "text": [
      "Found 697 images belonging to 22 classes.\n"
     ]
    }
   ],
   "source": [
    "train_dataset = generators(preprocessing=preprocess_input)"
   ]
  },
  {
   "cell_type": "markdown",
   "metadata": {
    "id": "yyVVbhX_1cYx"
   },
   "source": [
    "Now we create the model, starting with ResNet50 and adding to it some layes. Finally, we fit it on the training dataset."
   ]
  },
  {
   "cell_type": "code",
   "execution_count": null,
   "metadata": {
    "id": "wBgxhIC4Zbbk"
   },
   "outputs": [],
   "source": [
    "from tensorflow.keras.layers import Dense, Flatten\n",
    "from tensorflow.keras.models import Model"
   ]
  },
  {
   "cell_type": "code",
   "execution_count": null,
   "metadata": {
    "id": "mjF9fZjSZTOC"
   },
   "outputs": [],
   "source": [
    "resnet_model = ResNet50(weights='imagenet', include_top=False, input_shape=(224,224,3))\n",
    "for layer in resnet_model.layers:\n",
    "    layer.trainable = False\n",
    "x = Flatten()(resnet_model.output)\n",
    "x = Dense(100, activation='relu')(x)\n",
    "x = Dense(100, activation='relu')(x)\n",
    "x = Dense(100, activation='relu')(x)\n",
    "preds = Dense(22, activation='softmax')(x)\n",
    "full_model = Model(inputs=resnet_model.input, outputs=preds)\n",
    "full_model.summary()"
   ]
  },
  {
   "cell_type": "code",
   "execution_count": null,
   "metadata": {
    "colab": {
     "base_uri": "https://localhost:8080/"
    },
    "executionInfo": {
     "elapsed": 77617,
     "status": "ok",
     "timestamp": 1622724679424,
     "user": {
      "displayName": "Luisa Lo Presti",
      "photoUrl": "",
      "userId": "07632180622428791645"
     },
     "user_tz": -120
    },
    "id": "TCujYbfcZhQX",
    "outputId": "45501128-396f-4fbd-f1b0-448691080ca9"
   },
   "outputs": [
    {
     "name": "stderr",
     "output_type": "stream",
     "text": [
      "/usr/local/lib/python3.7/dist-packages/tensorflow/python/keras/engine/training.py:1940: UserWarning: `Model.fit_generator` is deprecated and will be removed in a future version. Please use `Model.fit`, which supports generators.\n",
      "  warnings.warn('`Model.fit_generator` is deprecated and '\n"
     ]
    },
    {
     "name": "stdout",
     "output_type": "stream",
     "text": [
      "Epoch 1/15\n",
      "44/44 [==============================] - 8s 111ms/step - loss: 0.0044 - acc: 0.9943\n",
      "Epoch 2/15\n",
      "44/44 [==============================] - 5s 111ms/step - loss: 0.0099 - acc: 0.9914\n",
      "Epoch 3/15\n",
      "44/44 [==============================] - 5s 112ms/step - loss: 0.0371 - acc: 0.9828\n",
      "Epoch 4/15\n",
      "44/44 [==============================] - 5s 112ms/step - loss: 0.0157 - acc: 0.9928\n",
      "Epoch 5/15\n",
      "44/44 [==============================] - 5s 113ms/step - loss: 0.0102 - acc: 0.9928\n",
      "Epoch 6/15\n",
      "44/44 [==============================] - 5s 113ms/step - loss: 0.0056 - acc: 0.9971\n",
      "Epoch 7/15\n",
      "44/44 [==============================] - 5s 113ms/step - loss: 0.0065 - acc: 0.9986\n",
      "Epoch 8/15\n",
      "44/44 [==============================] - 5s 112ms/step - loss: 0.0095 - acc: 0.9943\n",
      "Epoch 9/15\n",
      "44/44 [==============================] - 5s 111ms/step - loss: 0.0088 - acc: 0.9928\n",
      "Epoch 10/15\n",
      "44/44 [==============================] - 5s 113ms/step - loss: 0.0052 - acc: 0.9986\n",
      "Epoch 11/15\n",
      "44/44 [==============================] - 5s 111ms/step - loss: 0.0034 - acc: 0.9957\n",
      "Epoch 12/15\n",
      "44/44 [==============================] - 5s 112ms/step - loss: 0.0019 - acc: 1.0000\n",
      "Epoch 13/15\n",
      "44/44 [==============================] - 5s 112ms/step - loss: 0.0049 - acc: 0.9986\n",
      "Epoch 14/15\n",
      "44/44 [==============================] - 5s 111ms/step - loss: 0.0068 - acc: 0.9957\n",
      "Epoch 15/15\n",
      "44/44 [==============================] - 5s 112ms/step - loss: 0.0045 - acc: 0.9971\n"
     ]
    }
   ],
   "source": [
    "full_model.compile(loss='binary_crossentropy',\n",
    "                  optimizer='adam',\n",
    "                  metrics=['acc'])\n",
    "history = full_model.fit_generator(\n",
    "    train_dataset, \n",
    "    epochs=15)"
   ]
  },
  {
   "cell_type": "code",
   "execution_count": null,
   "metadata": {
    "colab": {
     "base_uri": "https://localhost:8080/",
     "height": 299
    },
    "executionInfo": {
     "elapsed": 1229,
     "status": "ok",
     "timestamp": 1622724780865,
     "user": {
      "displayName": "Luisa Lo Presti",
      "photoUrl": "",
      "userId": "07632180622428791645"
     },
     "user_tz": -120
    },
    "id": "vl6a-51K6uJw",
    "outputId": "1900d747-badf-423e-ea56-912b5317ce40"
   },
   "outputs": [
    {
     "data": {
      "image/png": "[encoded data removed]",
      "text/plain": [
       "<Figure size 432x288 with 1 Axes>"
      ]
     },
     "metadata": {
      "tags": []
     },
     "output_type": "display_data"
    }
   ],
   "source": [
    "import matplotlib.pyplot as plt\n",
    "\n",
    "def plot_training(hist, plot_path):\n",
    "\t'''\n",
    "  This function the training and validation loss over the number of epochs and saves the training history.\n",
    "  '''\n",
    "\tplt.style.use(\"ggplot\")\n",
    "\tplt.figure()\n",
    "\tplt.plot(hist.history['loss'], label = 'train_loss')\n",
    "\tplt.title('Training Loss')\n",
    "\tplt.xlabel('Epochs')\n",
    "\tplt.ylabel('Loss')\n",
    "\tplt.legend(loc = 'upper left')\n",
    "\tplt.savefig(plot_path)\n",
    " \n",
    "plot_training(history, data_path) \n"
   ]
  },
  {
   "cell_type": "markdown",
   "metadata": {
    "id": "SuFDMfjw8cKW"
   },
   "source": [
    "For convenience and clarity, we copy the previously defined functions for extracting the features and for the matching below."
   ]
  },
  {
   "cell_type": "code",
   "execution_count": null,
   "metadata": {
    "id": "wNdardQ286_k"
   },
   "outputs": [],
   "source": [
    "def extract_features(training_paths, model):\n",
    "    input_shape = (224, 224, 3) #standard shape required by the keras model \n",
    "    nf=[]\n",
    "    for n in range(len(training_paths)):\n",
    "      img = image.load_img(training_paths[n],\n",
    "                          target_size=(input_shape[0], input_shape[1]))\n",
    "      img_array = image.img_to_array(img) #convert images in 3D arrays authomatically \n",
    "      expanded_img_array = np.expand_dims(img_array, axis=0) #img_array has shape (None, 3) now; the first dimension need to be expanded using this command\n",
    "      preprocessed_img = preprocess_input(expanded_img_array) #images are converted from RGB to BGR and then each channel is zero-centered with respect to the ImageNet dataset\n",
    "      features = model.predict(preprocessed_img) #extract features from the images \n",
    "      flattened_features = features.flatten() #collapse array into one dimension\n",
    "      normalized_features = flattened_features / norm(flattened_features) #normalize\n",
    "      nf.append(normalized_features)\n",
    "    return nf\n",
    "\n",
    "\n",
    "def match_img(query_img_feat):\n",
    "  distance = np.linalg.norm(gallery_features - query_img_feat, axis=1) #vectorial distance\n",
    "  acc = np.argsort(distance)[:5]  #top 5 results\n",
    "  scores = [(distance[a], gallery_paths[a]) for a in acc] #rank the results\n",
    "  return (acc, scores)\n",
    "  "
   ]
  },
  {
   "cell_type": "code",
   "execution_count": null,
   "metadata": {
    "id": "hMMYJzpe0Ftm"
   },
   "outputs": [],
   "source": [
    "query_features = extract_features(query_paths, model)\n",
    "gallery_features = extract_features(gallery_paths, model)"
   ]
  },
  {
   "cell_type": "code",
   "execution_count": null,
   "metadata": {
    "id": "fNY5_7Q43OCK"
   },
   "outputs": [],
   "source": [
    "match_img(query_features[1])"
   ]
  },
  {
   "cell_type": "code",
   "execution_count": null,
   "metadata": {
    "colab": {
     "base_uri": "https://localhost:8080/"
    },
    "executionInfo": {
     "elapsed": 1307,
     "status": "ok",
     "timestamp": 1622725265713,
     "user": {
      "displayName": "Luisa Lo Presti",
      "photoUrl": "",
      "userId": "07632180622428791645"
     },
     "user_tz": -120
    },
    "id": "nYsbfFmA3dxE",
    "outputId": "aa83097d-4b01-413d-ad66-6ecf26b1cbcd"
   },
   "outputs": [
    {
     "name": "stdout",
     "output_type": "stream",
     "text": [
      "{'ec50k_00020001.jpg': ['ec50k_00020013.jpg',\n",
      "                        'ec50k_00020008.jpg',\n",
      "                        'ec50k_00020006.jpg',\n",
      "                        'ec50k_00020007.jpg',\n",
      "                        'ec50k_00020012.jpg'],\n",
      " 'ec50k_00020002.jpg': ['ec50k_00020013.jpg',\n",
      "                        'ec50k_00020008.jpg',\n",
      "                        'ec50k_00020006.jpg',\n",
      "                        'ec50k_00020007.jpg',\n",
      "                        'ec50k_00020009.jpg'],\n",
      " 'ec50k_00020003.jpg': ['ec50k_00020013.jpg',\n",
      "                        'ec50k_00020008.jpg',\n",
      "                        'ec50k_00020006.jpg',\n",
      "                        'ec50k_00020012.jpg',\n",
      "                        'ec50k_00020007.jpg'],\n",
      " 'ec50k_00020004.jpg': ['ec50k_00020009.jpg',\n",
      "                        'ec50k_00020006.jpg',\n",
      "                        'ec50k_00020010.jpg',\n",
      "                        'ec50k_00020008.jpg',\n",
      "                        'ec50k_00020013.jpg'],\n",
      " 'ec50k_00020005.jpg': ['ec50k_00020013.jpg',\n",
      "                        'ec50k_00020008.jpg',\n",
      "                        'ec50k_00020006.jpg',\n",
      "                        'ec50k_00020007.jpg',\n",
      "                        'ec50k_00020012.jpg'],\n",
      " 'ec50k_00040001.jpg': ['ec50k_00040009.jpg',\n",
      "                        'ec50k_00040013.jpg',\n",
      "                        'ec50k_00040008.jpg',\n",
      "                        'ec50k_00040014.jpg',\n",
      "                        'ec50k_00040006.jpg'],\n",
      " 'ec50k_00040002.jpg': ['ec50k_00040007.jpg',\n",
      "                        'ec50k_00040006.jpg',\n",
      "                        'ec50k_00040008.jpg',\n",
      "                        'ec50k_00040009.jpg',\n",
      "                        'ec50k_00040014.jpg'],\n",
      " 'ec50k_00040003.jpg': ['ec50k_00040006.jpg',\n",
      "                        'ec50k_00040009.jpg',\n",
      "                        'ec50k_00040007.jpg',\n",
      "                        'ec50k_00040008.jpg',\n",
      "                        'ec50k_00040014.jpg'],\n",
      " 'ec50k_00040004.jpg': ['ec50k_00040008.jpg',\n",
      "                        'ec50k_00040007.jpg',\n",
      "                        'ec50k_00040009.jpg',\n",
      "                        'ec50k_00040006.jpg',\n",
      "                        'ec50k_00040015.jpg'],\n",
      " 'ec50k_00040005.jpg': ['ec50k_00040007.jpg',\n",
      "                        'ec50k_00040008.jpg',\n",
      "                        'ec50k_00040006.jpg',\n",
      "                        'ec50k_00040009.jpg',\n",
      "                        'ec50k_00040014.jpg'],\n",
      " 'ec50k_00060001.jpg': ['ec50k_00060013.jpg',\n",
      "                        'ec50k_00060011.jpg',\n",
      "                        'ec50k_00060006.jpg',\n",
      "                        'ec50k_00060012.jpg',\n",
      "                        'ec50k_00060009.jpg'],\n",
      " 'ec50k_00060002.jpg': ['ec50k_00060006.jpg',\n",
      "                        'ec50k_00060011.jpg',\n",
      "                        'ec50k_00060013.jpg',\n",
      "                        'ec50k_00060009.jpg',\n",
      "                        '3519307553_3d26799955.jpg'],\n",
      " 'ec50k_00060003.jpg': ['ec50k_00060012.jpg',\n",
      "                        '3573828087_f9e03959d1.jpg',\n",
      "                        'ec50k_00060013.jpg',\n",
      "                        '3574637600_43a8c5f722.jpg',\n",
      "                        '3341731635_9698b836b9.jpg'],\n",
      " 'ec50k_00060004.jpg': ['ec50k_00060011.jpg',\n",
      "                        'ec50k_00060013.jpg',\n",
      "                        'ec50k_00060012.jpg',\n",
      "                        'ec50k_00060006.jpg',\n",
      "                        'ec50k_00060009.jpg'],\n",
      " 'ec50k_00060005.jpg': ['ec50k_00060006.jpg',\n",
      "                        'ec50k_00060011.jpg',\n",
      "                        'ec50k_00060013.jpg',\n",
      "                        'ec50k_00060009.jpg',\n",
      "                        'ec50k_00060012.jpg'],\n",
      " 'ec50k_00070001.jpg': ['ec50k_00070017.jpg',\n",
      "                        'ec50k_00070007.jpg',\n",
      "                        'ec50k_00070013.jpg',\n",
      "                        'ec50k_00070008.jpg',\n",
      "                        'ec50k_00070009.jpg'],\n",
      " 'ec50k_00070002.jpg': ['ec50k_00070017.jpg',\n",
      "                        'ec50k_00070014.jpg',\n",
      "                        'ec50k_00070013.jpg',\n",
      "                        'ec50k_00070007.jpg',\n",
      "                        'ec50k_00070010.jpg'],\n",
      " 'ec50k_00070003.jpg': ['ec50k_00070007.jpg',\n",
      "                        'ec50k_00070013.jpg',\n",
      "                        'ec50k_00070008.jpg',\n",
      "                        'ec50k_00070010.jpg',\n",
      "                        'ec50k_00070017.jpg'],\n",
      " 'ec50k_00070004.jpg': ['ec50k_00070006.jpg',\n",
      "                        'ec50k_00070008.jpg',\n",
      "                        'ec50k_00070010.jpg',\n",
      "                        'ec50k_00070017.jpg',\n",
      "                        'ec50k_00070011.jpg'],\n",
      " 'ec50k_00070005.jpg': ['ec50k_00070007.jpg',\n",
      "                        'ec50k_00070008.jpg',\n",
      "                        'ec50k_00070010.jpg',\n",
      "                        'ec50k_00070017.jpg',\n",
      "                        'ec50k_00070013.jpg'],\n",
      " 'ec50k_00080001.jpg': ['ec50k_00080002.jpg',\n",
      "                        'ec50k_00080007.jpg',\n",
      "                        'ec50k_00080003.jpg',\n",
      "                        'ec50k_00080014.jpg',\n",
      "                        'ec50k_00080005.jpg'],\n",
      " 'ec50k_00080004.jpg': ['ec50k_00080005.jpg',\n",
      "                        'ec50k_00080002.jpg',\n",
      "                        'ec50k_00080007.jpg',\n",
      "                        'ec50k_00090009.jpg',\n",
      "                        'ec50k_00080020.jpg'],\n",
      " 'ec50k_00080008.jpg': ['ec50k_00080009.jpg',\n",
      "                        'ec50k_00080005.jpg',\n",
      "                        '3016564953_d1cb089012.jpg',\n",
      "                        'ec50k_00080020.jpg',\n",
      "                        'ec50k_00080002.jpg'],\n",
      " 'ec50k_00080012.jpg': ['ec50k_00080017.jpg',\n",
      "                        'ec50k_00080015.jpg',\n",
      "                        'ec50k_00080007.jpg',\n",
      "                        'ec50k_00080014.jpg',\n",
      "                        'ec50k_00080003.jpg'],\n",
      " 'ec50k_00080016.jpg': ['ec50k_00080015.jpg',\n",
      "                        'ec50k_00080017.jpg',\n",
      "                        'ec50k_00080014.jpg',\n",
      "                        'ec50k_00080010.jpg',\n",
      "                        'ec50k_00080002.jpg'],\n",
      " 'ec50k_00090006.jpg': ['ec50k_00090005.jpg',\n",
      "                        'ec50k_00090010.jpg',\n",
      "                        'ec50k_00090011.jpg',\n",
      "                        'ec50k_00090001.jpg',\n",
      "                        'ec50k_00080002.jpg'],\n",
      " 'ec50k_00090019.jpg': ['ec50k_00090009.jpg',\n",
      "                        'ec50k_00090011.jpg',\n",
      "                        'ec50k_00090005.jpg',\n",
      "                        'ec50k_00090010.jpg',\n",
      "                        'ec50k_00090004.jpg'],\n",
      " 'ec50k_00090024.jpg': ['ec50k_00090011.jpg',\n",
      "                        'ec50k_00090010.jpg',\n",
      "                        '3559206553_08b15c5746.jpg',\n",
      "                        'ec50k_00090001.jpg',\n",
      "                        'ec50k_00090004.jpg'],\n",
      " 'ec50k_00090030.jpg': ['ec50k_00090010.jpg',\n",
      "                        'ec50k_00090011.jpg',\n",
      "                        'ec50k_00090001.jpg',\n",
      "                        'ec50k_00150004.jpg',\n",
      "                        '3559206553_08b15c5746.jpg'],\n",
      " 'ec50k_00090035.jpg': ['3559206553_08b15c5746.jpg',\n",
      "                        'ec50k_00090001.jpg',\n",
      "                        'ec50k_00090004.jpg',\n",
      "                        'ec50k_00150006.jpg',\n",
      "                        '2898860974_2467cedc90.jpg'],\n",
      " 'ec50k_00100006.jpg': ['ec50k_00100001.jpg',\n",
      "                        'ec50k_00100007.jpg',\n",
      "                        'ec50k_00100008.jpg',\n",
      "                        'ec50k_00100013.jpg',\n",
      "                        'ec50k_00100002.jpg'],\n",
      " 'ec50k_00100011.jpg': ['ec50k_00100010.jpg',\n",
      "                        'ec50k_00100001.jpg',\n",
      "                        'ec50k_00100007.jpg',\n",
      "                        'ec50k_00100013.jpg',\n",
      "                        'ec50k_00100009.jpg'],\n",
      " 'ec50k_00100015.jpg': ['ec50k_00100003.jpg',\n",
      "                        'ec50k_00100012.jpg',\n",
      "                        'ec50k_00110013.jpg',\n",
      "                        'ec50k_00150002.jpg',\n",
      "                        '3574637600_43a8c5f722.jpg'],\n",
      " 'ec50k_00100020.jpg': ['ec50k_00100001.jpg',\n",
      "                        '3573828087_f9e03959d1.jpg',\n",
      "                        'ec50k_00100009.jpg',\n",
      "                        'ec50k_00150007.jpg',\n",
      "                        'ec50k_00100010.jpg'],\n",
      " 'ec50k_00100026.jpg': ['ec50k_00100004.jpg',\n",
      "                        'ec50k_00100007.jpg',\n",
      "                        'ec50k_00100008.jpg',\n",
      "                        'ec50k_00100003.jpg',\n",
      "                        'ec50k_00100002.jpg'],\n",
      " 'ec50k_00110002.jpg': ['ec50k_00110003.jpg',\n",
      "                        'ec50k_00110011.jpg',\n",
      "                        'ec50k_00110004.jpg',\n",
      "                        '3519307553_3d26799955.jpg',\n",
      "                        '3570737432_19b26cd7eb.jpg'],\n",
      " 'ec50k_00110006.jpg': ['ec50k_00110015.jpg',\n",
      "                        'ec50k_00110001.jpg',\n",
      "                        'ec50k_00110014.jpg',\n",
      "                        'ec50k_00110010.jpg',\n",
      "                        'ec50k_00110011.jpg'],\n",
      " 'ec50k_00110008.jpg': ['ec50k_00110011.jpg',\n",
      "                        'ec50k_00110013.jpg',\n",
      "                        'ec50k_00110003.jpg',\n",
      "                        'ec50k_00110004.jpg',\n",
      "                        'ec50k_00110009.jpg'],\n",
      " 'ec50k_00110012.jpg': ['ec50k_00110013.jpg',\n",
      "                        'ec50k_00110011.jpg',\n",
      "                        'ec50k_00110003.jpg',\n",
      "                        'ec50k_00110009.jpg',\n",
      "                        'ec50k_00110014.jpg'],\n",
      " 'ec50k_00110016.jpg': ['ec50k_00110011.jpg',\n",
      "                        'ec50k_00110003.jpg',\n",
      "                        'ec50k_00110013.jpg',\n",
      "                        'ec50k_00110014.jpg',\n",
      "                        'ec50k_00110009.jpg'],\n",
      " 'ec50k_00120004.jpg': ['ec50k_00120001.jpg',\n",
      "                        'ec50k_00120002.jpg',\n",
      "                        'ec50k_00120006.jpg',\n",
      "                        'ec50k_00120003.jpg',\n",
      "                        'ec50k_00120005.jpg'],\n",
      " 'ec50k_00120007.jpg': ['ec50k_00120002.jpg',\n",
      "                        'ec50k_00120001.jpg',\n",
      "                        'ec50k_00120006.jpg',\n",
      "                        'ec50k_00120005.jpg',\n",
      "                        'ec50k_00120003.jpg'],\n",
      " 'ec50k_00120008.jpg': ['ec50k_00120006.jpg',\n",
      "                        'ec50k_00120003.jpg',\n",
      "                        'ec50k_00120001.jpg',\n",
      "                        'ec50k_00120005.jpg',\n",
      "                        'ec50k_00120002.jpg'],\n",
      " 'ec50k_00120009.jpg': ['ec50k_00120001.jpg',\n",
      "                        'ec50k_00120006.jpg',\n",
      "                        'ec50k_00120003.jpg',\n",
      "                        'ec50k_00120002.jpg',\n",
      "                        'ec50k_00120005.jpg'],\n",
      " 'ec50k_00120010.jpg': ['ec50k_00120003.jpg',\n",
      "                        'ec50k_00120002.jpg',\n",
      "                        'ec50k_00120001.jpg',\n",
      "                        'ec50k_00120006.jpg',\n",
      "                        'ec50k_00120005.jpg'],\n",
      " 'ec50k_00130018.jpg': ['ec50k_00130008.jpg',\n",
      "                        'ec50k_00130010.jpg',\n",
      "                        'ec50k_00130005.jpg',\n",
      "                        'ec50k_00130013.jpg',\n",
      "                        'ec50k_00130006.jpg'],\n",
      " 'ec50k_00130019.jpg': ['ec50k_00130015.jpg',\n",
      "                        'ec50k_00130010.jpg',\n",
      "                        'ec50k_00130016.jpg',\n",
      "                        'ec50k_00130011.jpg',\n",
      "                        'ec50k_00130014.jpg'],\n",
      " 'ec50k_00130020.jpg': ['ec50k_00130016.jpg',\n",
      "                        'ec50k_00130011.jpg',\n",
      "                        'ec50k_00130013.jpg',\n",
      "                        'ec50k_00130017.jpg',\n",
      "                        'ec50k_00130010.jpg'],\n",
      " 'ec50k_00130021.jpg': ['ec50k_00130016.jpg',\n",
      "                        'ec50k_00130017.jpg',\n",
      "                        'ec50k_00130010.jpg',\n",
      "                        'ec50k_00130011.jpg',\n",
      "                        'ec50k_00130006.jpg'],\n",
      " 'ec50k_00130022.jpg': ['ec50k_00130016.jpg',\n",
      "                        'ec50k_00130017.jpg',\n",
      "                        'ec50k_00130011.jpg',\n",
      "                        'ec50k_00130006.jpg',\n",
      "                        'ec50k_00130010.jpg'],\n",
      " 'ec50k_00140010.jpg': ['ec50k_00140012.jpg',\n",
      "                        'ec50k_00140008.jpg',\n",
      "                        'ec50k_00140014.jpg',\n",
      "                        'ec50k_00140003.jpg',\n",
      "                        'ec50k_00140002.jpg'],\n",
      " 'ec50k_00140018.jpg': ['ec50k_00140014.jpg',\n",
      "                        'ec50k_00140012.jpg',\n",
      "                        'ec50k_00140002.jpg',\n",
      "                        'ec50k_00140004.jpg',\n",
      "                        'ec50k_00140009.jpg'],\n",
      " 'ec50k_00140023.jpg': ['ec50k_00140004.jpg',\n",
      "                        'ec50k_00140012.jpg',\n",
      "                        'ec50k_00140003.jpg',\n",
      "                        'ec50k_00140006.jpg',\n",
      "                        'ec50k_00140011.jpg'],\n",
      " 'ec50k_00140028.jpg': ['ec50k_00140012.jpg',\n",
      "                        'ec50k_00140013.jpg',\n",
      "                        'ec50k_00140008.jpg',\n",
      "                        'ec50k_00140001.jpg',\n",
      "                        'ec50k_00140014.jpg'],\n",
      " 'ec50k_00140033.jpg': ['ec50k_00140004.jpg',\n",
      "                        'ec50k_00140009.jpg',\n",
      "                        'ec50k_00140011.jpg',\n",
      "                        'ec50k_00140013.jpg',\n",
      "                        'ec50k_00140006.jpg'],\n",
      " 'ec50k_00150003.jpg': ['3544804307_ae46da8ea4.jpg',\n",
      "                        'ec50k_00150001.jpg',\n",
      "                        'ec50k_00150004.jpg',\n",
      "                        'ec50k_00150006.jpg',\n",
      "                        'ec50k_00150014.jpg'],\n",
      " 'ec50k_00150009.jpg': ['ec50k_00150002.jpg',\n",
      "                        '3559179293_b6b4947c8d.jpg',\n",
      "                        'ec50k_00150016.jpg',\n",
      "                        'ec50k_00150007.jpg',\n",
      "                        '2583897269_5c24fc6608.jpg'],\n",
      " 'ec50k_00150012.jpg': ['ec50k_00150014.jpg',\n",
      "                        'ec50k_00150010.jpg',\n",
      "                        'ec50k_00150004.jpg',\n",
      "                        'ec50k_00150017.jpg',\n",
      "                        'ec50k_00150001.jpg'],\n",
      " 'ec50k_00150020.jpg': ['ec50k_00150004.jpg',\n",
      "                        'ec50k_00150001.jpg',\n",
      "                        'ec50k_00150014.jpg',\n",
      "                        'ec50k_00150006.jpg',\n",
      "                        'ec50k_00150010.jpg'],\n",
      " 'ec50k_00150023.jpg': ['ec50k_00150005.jpg',\n",
      "                        'ec50k_00150013.jpg',\n",
      "                        'ec50k_00150004.jpg',\n",
      "                        'ec50k_00150016.jpg',\n",
      "                        '3559179293_b6b4947c8d.jpg'],\n",
      " 'ec50k_00160008.jpg': ['ec50k_00160007.jpg',\n",
      "                        'ec50k_00160013.jpg',\n",
      "                        'ec50k_00160004.jpg',\n",
      "                        'ec50k_00160003.jpg',\n",
      "                        'ec50k_00160011.jpg'],\n",
      " 'ec50k_00160012.jpg': ['ec50k_00160003.jpg',\n",
      "                        'ec50k_00160004.jpg',\n",
      "                        'ec50k_00160007.jpg',\n",
      "                        'ec50k_00160001.jpg',\n",
      "                        'ec50k_00160006.jpg'],\n",
      " 'ec50k_00160021.jpg': ['ec50k_00160013.jpg',\n",
      "                        'ec50k_00160007.jpg',\n",
      "                        'ec50k_00160004.jpg',\n",
      "                        'ec50k_00160011.jpg',\n",
      "                        'ec50k_00160002.jpg'],\n",
      " 'ec50k_00160028.jpg': ['ec50k_00160010.jpg',\n",
      "                        'ec50k_00160001.jpg',\n",
      "                        'ec50k_00160003.jpg',\n",
      "                        'ec50k_00160004.jpg',\n",
      "                        'ec50k_00160005.jpg'],\n",
      " 'ec50k_00160034.jpg': ['ec50k_00160001.jpg',\n",
      "                        'ec50k_00160010.jpg',\n",
      "                        'ec50k_00160009.jpg',\n",
      "                        'ec50k_00160002.jpg',\n",
      "                        'ec50k_00160007.jpg'],\n",
      " 'ec50k_00180009.jpg': ['ec50k_00180006.jpg',\n",
      "                        'ec50k_00180016.jpg',\n",
      "                        'ec50k_00180010.jpg',\n",
      "                        'ec50k_00180013.jpg',\n",
      "                        'ec50k_00180003.jpg'],\n",
      " 'ec50k_00180023.jpg': ['ec50k_00180004.jpg',\n",
      "                        'ec50k_00180014.jpg',\n",
      "                        'ec50k_00180015.jpg',\n",
      "                        'ec50k_00180007.jpg',\n",
      "                        'ec50k_00180005.jpg'],\n",
      " 'ec50k_00180031.jpg': ['ec50k_00180015.jpg',\n",
      "                        'ec50k_00180012.jpg',\n",
      "                        'ec50k_00180013.jpg',\n",
      "                        'ec50k_00180003.jpg',\n",
      "                        'ec50k_00180002.jpg'],\n",
      " 'ec50k_00180045.jpg': ['ec50k_00180013.jpg',\n",
      "                        'ec50k_00180006.jpg',\n",
      "                        'ec50k_00180010.jpg',\n",
      "                        'ec50k_00180014.jpg',\n",
      "                        'ec50k_00180016.jpg'],\n",
      " 'ec50k_00180056.jpg': ['ec50k_00180003.jpg',\n",
      "                        'ec50k_00180002.jpg',\n",
      "                        'ec50k_00180012.jpg',\n",
      "                        'ec50k_00180001.jpg',\n",
      "                        'ec50k_00180004.jpg']}\n"
     ]
    }
   ],
   "source": [
    "from pprint import pprint\n",
    "results = {}\n",
    "for img in query_paths: \n",
    "  results[os.path.basename(img)] = []\n",
    "for i, feat in enumerate(query_features) : \n",
    "  acc, scores = match_img(feat)\n",
    "  results[os.path.basename(query_paths[i])].extend([os.path.basename(sc[1]) for sc in scores])\n",
    "pprint(results)"
   ]
  },
  {
   "cell_type": "markdown",
   "metadata": {
    "id": "VnVbQjB_mW76"
   },
   "source": [
    "**CHALLENGE DAY:**\n",
    "\n",
    "Testing the model on the unlabeled query and gallery images from the test set:"
   ]
  },
  {
   "cell_type": "code",
   "execution_count": null,
   "metadata": {
    "id": "C4E_uvLKIkmI"
   },
   "outputs": [],
   "source": [
    "test_path= os.path.join(data_path, \"test\")\n",
    "\n",
    "gallery_path = os.path.join(test_path, 'gallery')\n",
    "query_path = os.path.join(test_path, 'query')\n",
    "\n",
    "def imag_load(path) : \n",
    "  temp_images = os.listdir(path)\n",
    "  lista = []\n",
    "  for i in temp_images:\n",
    "    img_tmp = os.path.join(path, i)\n",
    "    lista.append(img_tmp)\n",
    "  return lista\n",
    "\n",
    "gallery = imag_load(gallery_path)\n",
    "query = imag_load(query_path)"
   ]
  },
  {
   "cell_type": "code",
   "execution_count": null,
   "metadata": {
    "id": "yyuVaHKGgh4c"
   },
   "outputs": [],
   "source": [
    "def match_img(one_query_img_feat, gallery_features, gallery_paths):\n",
    "  distance = np.linalg.norm(gallery_features - one_query_img_feat, axis=1) #vectorial distance\n",
    "  acc = np.argsort(distance)[:5]  #top 5 results\n",
    "  scores = [(distance[a], gallery_paths[a]) for a in acc] #rank the results\n",
    "  return (acc, scores)"
   ]
  },
  {
   "cell_type": "code",
   "execution_count": null,
   "metadata": {
    "id": "mvAtgfPk40xU"
   },
   "outputs": [],
   "source": [
    "gallery_features = extract_features(gallery, model)\n",
    "query_features = extract_features(query, model)"
   ]
  },
  {
   "cell_type": "code",
   "execution_count": null,
   "metadata": {
    "colab": {
     "base_uri": "https://localhost:8080/"
    },
    "executionInfo": {
     "elapsed": 319,
     "status": "ok",
     "timestamp": 1622725327406,
     "user": {
      "displayName": "Luisa Lo Presti",
      "photoUrl": "",
      "userId": "07632180622428791645"
     },
     "user_tz": -120
    },
    "id": "XUKALV-rmcj-",
    "outputId": "be79c75b-2255-47e3-c9c6-447361b7ce05"
   },
   "outputs": [
    {
     "data": {
      "text/plain": [
       "(array([ 22, 397, 174,  59, 259]),\n",
       " [(0.68415505,\n",
       "   'drive/MyDrive/AML_Challenge/dataset_senza_aug/test/gallery/14kx20j.jpg'),\n",
       "  (0.68735135,\n",
       "   'drive/MyDrive/AML_Challenge/dataset_senza_aug/test/gallery/xpcii72.jpg'),\n",
       "  (0.70169276,\n",
       "   'drive/MyDrive/AML_Challenge/dataset_senza_aug/test/gallery/dsqnx6p.jpg'),\n",
       "  (0.70892996,\n",
       "   'drive/MyDrive/AML_Challenge/dataset_senza_aug/test/gallery/50c6lzi.jpg'),\n",
       "  (0.71632504,\n",
       "   'drive/MyDrive/AML_Challenge/dataset_senza_aug/test/gallery/psc4i5p.jpg')])"
      ]
     },
     "execution_count": 120,
     "metadata": {
      "tags": []
     },
     "output_type": "execute_result"
    }
   ],
   "source": [
    "match_img(query_features[1], gallery_features, gallery)"
   ]
  },
  {
   "cell_type": "code",
   "execution_count": null,
   "metadata": {
    "colab": {
     "base_uri": "https://localhost:8080/"
    },
    "executionInfo": {
     "elapsed": 4,
     "status": "ok",
     "timestamp": 1622725328103,
     "user": {
      "displayName": "Luisa Lo Presti",
      "photoUrl": "",
      "userId": "07632180622428791645"
     },
     "user_tz": -120
    },
    "id": "e3tTyWf-KNcJ",
    "outputId": "5ed41204-b834-429f-d421-7939a9a28839"
   },
   "outputs": [
    {
     "name": "stdout",
     "output_type": "stream",
     "text": [
      "{'3fpri33.jpg': ['90e01s6.jpg',\n",
      "                 'tqibo20.jpg',\n",
      "                 '50c6lzi.jpg',\n",
      "                 'h1myait.jpg',\n",
      "                 'p49x44a.jpg'],\n",
      " '4uufzmh.jpg': ['yp9lv9j.jpg',\n",
      "                 'u2vc46s.jpg',\n",
      "                 'xpcii72.jpg',\n",
      "                 'lv2zrrb.jpg',\n",
      "                 'qh067xt.jpg'],\n",
      " '5qcsiay.jpg': ['vur3qkh.jpg',\n",
      "                 '1y0cjdn.jpg',\n",
      "                 'xpcii72.jpg',\n",
      "                 '7lx9gn6.jpg',\n",
      "                 'z9gysj1.jpg'],\n",
      " '8d6bnrk.jpg': ['cftkf1t.jpg',\n",
      "                 'yp9lv9j.jpg',\n",
      "                 'ky0a2wr.jpg',\n",
      "                 '5ke31ly.jpg',\n",
      "                 'xpcii72.jpg'],\n",
      " 'e7hrc0v.jpg': ['szwz6h0.jpg',\n",
      "                 'mq275v4.jpg',\n",
      "                 'kx0hd4t.jpg',\n",
      "                 'ee5occc.jpg',\n",
      "                 '4i7uy3a.jpg'],\n",
      " 'hx5h2mt.jpg': ['dlwucps.jpg',\n",
      "                 'hqmr9vf.jpg',\n",
      "                 'xvhz7aw.jpg',\n",
      "                 '6h1rkk2.jpg',\n",
      "                 'mluaaxx.jpg'],\n",
      " 'j4aovhl.jpg': ['pkwu9eg.jpg',\n",
      "                 '00zodse.jpg',\n",
      "                 'xfi21ho.jpg',\n",
      "                 'szwz6h0.jpg',\n",
      "                 'v8fgnbi.jpg'],\n",
      " 'lpy53pe.jpg': ['dsqnx6p.jpg',\n",
      "                 '14kx20j.jpg',\n",
      "                 't6l0jse.jpg',\n",
      "                 '8cyluu5.jpg',\n",
      "                 'avse4s3.jpg'],\n",
      " 'mtb5nrt.jpg': ['dsqnx6p.jpg',\n",
      "                 'ehevs8e.jpg',\n",
      "                 'y2lje4u.jpg',\n",
      "                 'psc4i5p.jpg',\n",
      "                 'xmzx0qv.jpg'],\n",
      " 'ndid5ve.jpg': ['15g086m.jpg',\n",
      "                 '6ai1btj.jpg',\n",
      "                 '4i7uy3a.jpg',\n",
      "                 '0furuc0.jpg',\n",
      "                 'y136c4d.jpg'],\n",
      " 'ntk86zq.jpg': ['pt83qq5.jpg',\n",
      "                 '86v1m5d.jpg',\n",
      "                 '4i7uy3a.jpg',\n",
      "                 '0furuc0.jpg',\n",
      "                 'xvhz7aw.jpg'],\n",
      " 'rdpx7ow.jpg': ['14kx20j.jpg',\n",
      "                 'g23cuvj.jpg',\n",
      "                 '50c6lzi.jpg',\n",
      "                 'szwz6h0.jpg',\n",
      "                 'pnxkbnd.jpg'],\n",
      " 'w28vbir.jpg': ['6h1rkk2.jpg',\n",
      "                 'avse4s3.jpg',\n",
      "                 'ky0a2wr.jpg',\n",
      "                 'wshzf05.jpg',\n",
      "                 'dlwucps.jpg'],\n",
      " 'ymsrj8g.jpg': ['14kx20j.jpg',\n",
      "                 'xpcii72.jpg',\n",
      "                 'dsqnx6p.jpg',\n",
      "                 '50c6lzi.jpg',\n",
      "                 'psc4i5p.jpg'],\n",
      " 'zc5ipa7.jpg': ['4z7svwk.jpg',\n",
      "                 'iglxzf5.jpg',\n",
      "                 '6s5t4wk.jpg',\n",
      "                 'xmzx0qv.jpg',\n",
      "                 'gicrlh5.jpg']}\n"
     ]
    }
   ],
   "source": [
    "from pprint import pprint\n",
    "results = {}\n",
    "for img in query: \n",
    "  #results[img] = []\n",
    "  results[os.path.basename(img)] = []\n",
    "for i, feat in enumerate(query_features) : \n",
    "  acc, scores = match_img(feat, gallery_features, gallery)\n",
    "  #pprint(scores)\n",
    "  #results[query_paths[i]].extend([sc[1] for sc in scores])\n",
    "  results[os.path.basename(query[i])].extend([os.path.basename(sc[1]) for sc in scores])\n",
    "pprint(results)"
   ]
  },
  {
   "cell_type": "code",
   "execution_count": null,
   "metadata": {
    "id": "QrDy033Qc7Qp"
   },
   "outputs": [],
   "source": [
    "import requests\n",
    "import json\n",
    "\n",
    "\n",
    "url = \"http://ec2-18-191-24-254.us-east-2.compute.amazonaws.com/competition/\""
   ]
  },
  {
   "cell_type": "code",
   "execution_count": null,
   "metadata": {
    "id": "5rqomngjdAUo"
   },
   "outputs": [],
   "source": [
    "mydata = dict()\n",
    "mydata['groupname'] = \"lesdesesperadas\"\n",
    "\n",
    "\n",
    "res = results\n",
    "mydata[\"images\"] = res\n",
    "pprint(mydata)"
   ]
  },
  {
   "cell_type": "code",
   "execution_count": null,
   "metadata": {
    "colab": {
     "base_uri": "https://localhost:8080/"
    },
    "executionInfo": {
     "elapsed": 283,
     "status": "ok",
     "timestamp": 1622724877545,
     "user": {
      "displayName": "Luisa Lo Presti",
      "photoUrl": "",
      "userId": "07632180622428791645"
     },
     "user_tz": -120
    },
    "id": "o0MGMgm8dBKz",
    "outputId": "83c8836e-56fb-45ea-8047-db770af4c077"
   },
   "outputs": [
    {
     "name": "stdout",
     "output_type": "stream",
     "text": [
      "accuracy is {'top1': 0.5333333333333333, 'top3': 0.7333333333333333, 'top10': 0.8666666666666667}\n"
     ]
    }
   ],
   "source": [
    "def submit(results, url):\n",
    "    res = json.dumps(results)\n",
    "    response = requests.post(url, res)\n",
    "    result = json.loads(response.text)\n",
    "    print(f\"accuracy is {result['results']}\")\n",
    "\n",
    "submit(mydata, url)"
   ]
  }
 ],
 "metadata": {
  "accelerator": "GPU",
  "colab": {
   "collapsed_sections": [],
   "name": "ResNet50_final_version_with_submission.ipynb",
   "provenance": []
  },
  "kernelspec": {
   "display_name": "Python 3",
   "language": "python",
   "name": "python3"
  },
  "language_info": {
   "codemirror_mode": {
    "name": "ipython",
    "version": 3
   },
   "file_extension": ".py",
   "mimetype": "text/x-python",
   "name": "python",
   "nbconvert_exporter": "python",
   "pygments_lexer": "ipython3",
   "version": "3.8.5"
  },
  "toc": {
   "base_numbering": 1,
   "nav_menu": {},
   "number_sections": true,
   "sideBar": true,
   "skip_h1_title": false,
   "title_cell": "Table of Contents",
   "title_sidebar": "Contents",
   "toc_cell": false,
   "toc_position": {},
   "toc_section_display": true,
   "toc_window_display": false
  }
 },
 "nbformat": 4,
 "nbformat_minor": 1
}
