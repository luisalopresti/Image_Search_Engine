{
 "cells": [
  {
   "cell_type": "code",
   "execution_count": null,
   "metadata": {
    "colab": {
     "base_uri": "https://localhost:8080/"
    },
    "id": "KVpxuLqHs2B3",
    "outputId": "1fd2272b-0137-4a96-d72a-934585a4992e"
   },
   "outputs": [
    {
     "name": "stdout",
     "output_type": "stream",
     "text": [
      "Requirement already satisfied: keras in /usr/local/lib/python3.7/dist-packages (2.4.3)\n",
      "Requirement already satisfied: numpy>=1.9.1 in /usr/local/lib/python3.7/dist-packages (from keras) (1.19.5)\n",
      "Requirement already satisfied: h5py in /usr/local/lib/python3.7/dist-packages (from keras) (3.1.0)\n",
      "Requirement already satisfied: scipy>=0.14 in /usr/local/lib/python3.7/dist-packages (from keras) (1.4.1)\n",
      "Requirement already satisfied: pyyaml in /usr/local/lib/python3.7/dist-packages (from keras) (3.13)\n",
      "Requirement already satisfied: cached-property; python_version < \"3.8\" in /usr/local/lib/python3.7/dist-packages (from h5py->keras) (1.5.2)\n"
     ]
    }
   ],
   "source": [
    "pip install keras"
   ]
  },
  {
   "cell_type": "code",
   "execution_count": null,
   "metadata": {
    "id": "s-i7WVk5PGmk"
   },
   "outputs": [],
   "source": [
    "import numpy as np\n",
    "import os\n",
    "from matplotlib.image import imread\n",
    "import tensorflow as tf\n",
    "import random\n",
    "from tensorflow.keras.layers import Input, Flatten, Dense,Reshape, Activation, LeakyReLU, MaxPooling2D, UpSampling2D, InputLayer\n",
    "from keras import Sequential\n",
    "from tensorflow.keras.metrics import Accuracy\n",
    "from tensorflow.keras.optimizers import Adam, SGD\n",
    "from tensorflow.keras.preprocessing import image\n",
    "from tensorflow.keras.preprocessing.image import ImageDataGenerator\n",
    "from tensorflow.keras.applications.vgg16 import VGG16, preprocess_input\n",
    "from tensorflow.keras.models import Model\n",
    "\n",
    "from tensorflow.keras.layers import BatchNormalization\n",
    "from tensorflow.keras.layers import Conv2D\n",
    "from tensorflow.keras.layers import Conv2DTranspose\n",
    "from tensorflow.keras import backend as K\n",
    "from tensorflow.keras.callbacks import ModelCheckpoint, EarlyStopping, BaseLogger\n",
    "import matplotlib.pyplot as plt\n",
    "from keras.losses import mse, binary_crossentropy\n",
    "from tqdm import tqdm\n",
    "from tensorflow.keras.preprocessing.image import load_img, img_to_array\n",
    "\n",
    "import cv2\n",
    "from keras.applications import vgg16\n",
    "from keras.preprocessing.image import load_img,img_to_array\n",
    "from keras.models import Model\n",
    "from keras.applications.imagenet_utils import preprocess_input\n",
    "\n",
    "from PIL import Image\n",
    "import os\n",
    "import matplotlib.pyplot as plt\n",
    "import numpy as np\n",
    "from sklearn.metrics.pairwise import cosine_similarity\n",
    "import pandas as pd\n",
    "from tensorflow.keras.preprocessing import image"
   ]
  },
  {
   "cell_type": "code",
   "execution_count": null,
   "metadata": {
    "colab": {
     "base_uri": "https://localhost:8080/"
    },
    "id": "uPshHLo4PZfd",
    "outputId": "9bf9dd02-e86a-4a3e-be58-101229c92f33"
   },
   "outputs": [
    {
     "name": "stdout",
     "output_type": "stream",
     "text": [
      "Found GPU at: /device:GPU:0\n"
     ]
    }
   ],
   "source": [
    "#must put the notebook setting on GPU first\n",
    "%tensorflow_version 2.x\n",
    "import tensorflow as tf\n",
    "device_name = tf.test.gpu_device_name()\n",
    "if device_name != '/device:GPU:0':\n",
    "  raise SystemError('GPU device not found')\n",
    "print('Found GPU at: {}'.format(device_name))"
   ]
  },
  {
   "cell_type": "code",
   "execution_count": null,
   "metadata": {
    "colab": {
     "base_uri": "https://localhost:8080/"
    },
    "id": "fF4g5UGOPcov",
    "outputId": "976f3087-fbc1-4961-d320-a526bd65dcf3"
   },
   "outputs": [
    {
     "name": "stdout",
     "output_type": "stream",
     "text": [
      "Mounted at /content/drive\n",
      "['drive/MyDrive/Challenge(1)/dataset/stl10.zip', 'drive/MyDrive/Challenge(1)/dataset/validation', 'drive/MyDrive/Challenge(1)/dataset/training', 'drive/MyDrive/Challenge(1)/dataset/\\\\second_output.csv', 'drive/MyDrive/Challenge(1)/dataset/stl10.zip (Unzipped Files)', 'drive/MyDrive/Challenge(1)/dataset/siamese_checkpoints', 'drive/MyDrive/Challenge(1)/dataset/variables', 'drive/MyDrive/Challenge(1)/dataset/assets', 'drive/MyDrive/Challenge(1)/dataset/saved_model.pb', 'drive/MyDrive/Challenge(1)/dataset/keras_metadata.pb', 'drive/MyDrive/Challenge(1)/dataset/conv_checkpoints', 'drive/MyDrive/Challenge(1)/dataset/encoder_weights.h5', 'drive/MyDrive/Challenge(1)/dataset/decoder_weights.h5', 'drive/MyDrive/Challenge(1)/dataset/new_dataset_pokemon_animals_clothes', 'drive/MyDrive/Challenge(1)/dataset/conv1_checkpoints', 'drive/MyDrive/Challenge(1)/dataset/test']\n"
     ]
    }
   ],
   "source": [
    "import sys \n",
    "from google.colab import drive \n",
    "import glob\n",
    "\n",
    "path = \"/content/drive\" \n",
    "drive.mount(path, force_remount=True)  \n",
    "data_path = \"drive/MyDrive/Challenge(1)/dataset\"\n",
    "training_data_path = \"drive/MyDrive/Challenge(1)/dataset/training\" \n",
    "\n",
    "myfiles = glob.glob(os.path.join(data_path, '*')) \n",
    "print(myfiles)"
   ]
  },
  {
   "cell_type": "markdown",
   "metadata": {
    "id": "yhS6UlQjCJ49"
   },
   "source": [
    "Importing our training data "
   ]
  },
  {
   "cell_type": "code",
   "execution_count": null,
   "metadata": {
    "colab": {
     "base_uri": "https://localhost:8080/"
    },
    "id": "N89BAC1jPgvx",
    "outputId": "c9ecab9e-50e8-49f8-f46b-99f7d26cd493"
   },
   "outputs": [
    {
     "name": "stdout",
     "output_type": "stream",
     "text": [
      "Loaded 2233 from drive/MyDrive/Challenge(1)/dataset/training images\n"
     ]
    }
   ],
   "source": [
    "class Dataset(object):\n",
    "    def __init__(self, data_path):\n",
    "        self.data_path = data_path\n",
    "        assert os.path.exists(self.data_path), 'Insert a valid path!'\n",
    "\n",
    "        # get class list\n",
    "        self.data_classes = os.listdir(self.data_path)\n",
    "\n",
    "        # init mapping dict\n",
    "        self.data_mapping = {}\n",
    "\n",
    "        # populate mapping dict\n",
    "        for c, c_name in enumerate(self.data_classes):\n",
    "            temp_path = os.path.join(self.data_path, c_name)\n",
    "            temp_images = os.listdir(temp_path)\n",
    "\n",
    "            for i in temp_images:\n",
    "                img_tmp = os.path.join(temp_path, i)\n",
    "\n",
    "                if img_tmp.endswith('.jpg'):\n",
    "                    if c_name == 'distractor':\n",
    "                        self.data_mapping[img_tmp] = -1\n",
    "                    else:\n",
    "                      if c_name.isnumeric():\n",
    "                        self.data_mapping[img_tmp] = int(c_name)\n",
    "                      else :\n",
    "                        self.data_mapping[img_tmp] = c_name\n",
    "\n",
    "        print('Loaded {:d} from {:s} images'.format(len(self.data_mapping.keys()),\n",
    "                                                    self.data_path))\n",
    "\n",
    "    def get_data_paths(self):\n",
    "        # returns a list of imgpaths and related classes\n",
    "        images = []\n",
    "        classes = []\n",
    "        for img_path in self.data_mapping.keys():\n",
    "            if img_path.endswith('.jpg'):\n",
    "                images.append(img_path)\n",
    "                classes.append(self.data_mapping[img_path])\n",
    "        return images, np.array(classes)\n",
    "\n",
    "\n",
    "    def num_classes(self):\n",
    "        # returns number of classes of the dataset\n",
    "        return len(self.data_classes)\n",
    "\n",
    "  \n",
    "\n",
    "\n",
    "    \n",
    "\n",
    "\n",
    "#validation_path = os.path.join(data_path, 'validation')\n",
    "#test_path= os.path.join(validation_path, \"test\")\n",
    "#gallery_path = os.path.join(validation_path, 'gallery')\n",
    "#query_path = os.path.join(validation_path, 'query')\n",
    "training_path = os.path.join(data_path, \"training\") \n",
    "training_path = training_data_path\n",
    "#print(training_path)\n",
    "training_dataset = Dataset(data_path = training_path)\n",
    "#gallery_dataset = Dataset(data_path=gallery_path)\n",
    "#query_dataset = Dataset(data_path=query_path)\n",
    "#test_dataset = Dataset(data_path = test_path)\n",
    "\n",
    "# get training data and classes\n",
    "training_paths, training_classes = training_dataset.get_data_paths()\n",
    "#test_paths, test_classes = test_dataset.get_data_paths()\n",
    "# we get validation gallery and query data\n",
    "#gallery_paths, gallery_classes = gallery_dataset.get_data_paths()\n",
    "#query_paths, query_classes = query_dataset.get_data_paths()"
   ]
  },
  {
   "cell_type": "markdown",
   "metadata": {
    "id": "tbFctMwOCV9K"
   },
   "source": [
    "Converting the dataset to an array of normalized values"
   ]
  },
  {
   "cell_type": "code",
   "execution_count": null,
   "metadata": {
    "colab": {
     "base_uri": "https://localhost:8080/"
    },
    "id": "MBmB6EzmR1Rq",
    "outputId": "c597d8ab-8e2c-498a-edf7-fd3bef746ca9"
   },
   "outputs": [
    {
     "name": "stderr",
     "output_type": "stream",
     "text": [
      "100%|██████████| 2233/2233 [00:09<00:00, 241.55it/s]\n"
     ]
    }
   ],
   "source": [
    "def convert_to_array(file_array):\n",
    "  \"\"\"\n",
    "  Reading and Converting images into numpy array by taking path of images.\n",
    "  Arguments:\n",
    "  file_array - (list) - list of file(path) names\n",
    "  Returns:\n",
    "  A numpy array of images.\n",
    "  \"\"\"\n",
    "\n",
    "\n",
    "  list_of_pics_array= []\n",
    "  for img in tqdm(file_array):\n",
    "    original = load_img(img, target_size=(224, 224))\n",
    "    numpy_image = img_to_array(original)\n",
    "    image = np.expand_dims(numpy_image, axis=0)\n",
    "    image /=255\n",
    "    list_of_pics_array.append(image)\n",
    "    \n",
    "  images = np.vstack(list_of_pics_array)\n",
    "\n",
    " \n",
    "  return images\n",
    "\n",
    " \n",
    "\n",
    "training_dataset = convert_to_array(training_paths)\n",
    "#print(\"Length of training dataset:\",training_dataset.shape)\n",
    "#query_dataset = convert_to_array(query_paths)\n",
    "#test_dataset = convert_to_array(test_paths)\n",
    "#print(\"Length of test dataset:\",query_dataset.shape)\n",
    "#gallery_dataset = convert_to_array(gallery_paths)"
   ]
  },
  {
   "cell_type": "markdown",
   "metadata": {
    "id": "mZ-oqDYcCYtx"
   },
   "source": [
    "Randomly shuffling the dataset to avoid the model to recognize the first/last pictures at every training "
   ]
  },
  {
   "cell_type": "code",
   "execution_count": null,
   "metadata": {
    "id": "CC4PXVG01IFX"
   },
   "outputs": [],
   "source": [
    "\n",
    "#adding some randomness - some additional noisy images will have to be added\n",
    "training_dataset = tf.random.shuffle(\n",
    "    training_dataset, seed=466, name=None\n",
    ")\n"
   ]
  },
  {
   "cell_type": "code",
   "execution_count": null,
   "metadata": {
    "id": "8SjYYMHyuRGu"
   },
   "outputs": [],
   "source": [
    "from tensorflow.keras.losses import SparseCategoricalCrossentropy\n",
    "checkpoint_path = \"drive/MyDrive/Challenge(1)/dataset/conv1_checkpoints\""
   ]
  },
  {
   "cell_type": "markdown",
   "metadata": {
    "id": "LGLzm73KCfCS"
   },
   "source": [
    "Defining the autoencoder model, having an input shape, output shape, filt certain filters, and further parameters used to enhance training such as stdev, stride and padding (for deciding the shifting of the kernel over the input array). "
   ]
  },
  {
   "cell_type": "code",
   "execution_count": null,
   "metadata": {
    "id": "0HPc7XOER2QZ"
   },
   "outputs": [],
   "source": [
    "class ConvAutoEncoder():\n",
    "  \"\"\"\n",
    "  \n",
    "  \"\"\"\n",
    "\n",
    "  def __init__(self, input_shape, output_dim, filters, optimizer,\n",
    "               kernel=(3,3), stride=(2,2), strideundo=2, pool=(2,2), stdev = 0.3,\n",
    "               lossfn='mse', mtrcs = 'accuracy'):\n",
    "        # For now, assuming input_shape is mxnxc, and m,n are multiples of 2.\n",
    "        self.input_shape = input_shape\n",
    "        self.output_dim  = output_dim \n",
    "        self.optimizer = optimizer\n",
    "\n",
    "        # define encoder architecture\n",
    "        self.encoder = Sequential()\n",
    "        self.encoder.add(InputLayer(input_shape))\n",
    "        for i in range(len(filters)):\n",
    "            self.encoder.add(Conv2D(filters=filters[i], kernel_size=kernel, strides=stride, activation='relu', padding='same'))\n",
    "            self.encoder.add(MaxPooling2D(pool_size=pool))\n",
    "            if i % 2 == 0 : \n",
    "              self.encoder.add(tf.keras.layers.GaussianNoise(stddev= stdev))\n",
    "            #self.encoder.add(BatchNormalization())\n",
    "        self.encoder.add(Flatten())\n",
    "        self.encoder.add(Dense(output_dim)) ##fully connected layer dimension on which I want some confrontations on - maybe kmeans ? \n",
    "\n",
    "        # define decoder architecture \n",
    "        self.decoder = Sequential()\n",
    "        self.decoder.add(InputLayer((output_dim,)))\n",
    "        self.decoder.add(Dense(filters[len(filters)-1] * int(input_shape[0]/(2**(len(filters)))) * int(input_shape[1]/(2**(len(filters))))))\n",
    "        self.decoder.add(Reshape((int(input_shape[0]/(2**(len(filters)))),int(input_shape[1]/(2**(len(filters)))), filters[len(filters)-1])))\n",
    "        for i in range(1,len(filters)):\n",
    "            self.decoder.add(Conv2DTranspose(filters=filters[len(filters)-i], kernel_size=kernel, strides=strideundo, activation='relu', padding='same'))\n",
    "            #self.decoder.add(BatchNormalization())\n",
    "        self.decoder.add(Conv2DTranspose(filters=input_shape[2],kernel_size=kernel, strides=strideundo, activation='softmax',  padding='same'))\n",
    "\n",
    "        # compile model\n",
    "        input         = Input(input_shape)\n",
    "        code          = self.encoder(input)\n",
    "        reconstructed = self.decoder(code)\n",
    "        self.ae = Model(inputs=input, outputs=reconstructed)\n",
    "        self.ae.compile(optimizer=self.optimizer, loss=lossfn, metrics = mtrcs)\n",
    "        \n",
    "        \n",
    "\n",
    "  def fit(self, x, epochs=50,  **kwargs):\n",
    "    history = self.ae.fit(x=x, y = x,  epochs=epochs,   **kwargs)\n",
    "    return history\n",
    "\n",
    "  def save_weights(self, path=None, prefix=\"\"):\n",
    "        if path is None: path = os.getcwd()\n",
    "        #self.encoder.save_weights(os.path.join(\"drive/MyDrive/Challenge(1)/dataset/conv_checkpoints\", prefix + \"encoder_weights.h5\"))\n",
    "        #self.decoder.save_weights(os.path.join(\"drive/MyDrive/Challenge(1)/dataset/conv_checkpoints\", prefix + \"decoder_weights.h5\"))\n",
    "        self.ae.save_weights(os.path.join(\"drive/MyDrive/Challenge(1)/dataset/conv1_checkpoints\", prefix + 'autoencoder.h5'))\n",
    "\n",
    "\n",
    "  def load_weights(self, path=None, prefix=\"\"):\n",
    "        if path is None: path = os.getcwd()\n",
    "        #self.encoder.load_weights(os.path.join(\"drive/MyDrive/Challenge(1)/dataset/conv_checkpoints\", prefix + \"encoder_weights.h5\"))\n",
    "        #self.decoder.load_weights(os.path.join(\"drive/MyDrive/Challenge(1)/dataset/conv_checkpoints\", prefix + \"decoder_weights.h5\"))\n",
    "        self.ae.load_weights(os.path.join(\"drive/MyDrive/Challenge(1)/dataset/conv1_checkpoints\", prefix + 'autoencoder.h5'))\n",
    "        \n",
    "\n",
    "  def get_weights(self, path = None):\n",
    "    if path is None: path = os.getcwd()\n",
    "    self.ae.get_weights(os.path.join(\"drive/MyDrive/Challenge(1)/dataset/conv1_checkpoints\",'autoencoder.h5'))\n",
    "    self.ae.compile(optimizer=self.optimizer, loss=lossfn, metrics = mtrcs)\n",
    "\n",
    "  def save_model(self, path = None) : \n",
    "    if path is None: path = os.getcwd()\n",
    "    self.ae.save_model(os.path.join(\"drive/MyDrive/Challenge(1)/dataset/conv1_checkpoints\", prefix + 'model_auto.h5'))\n",
    "\n",
    "  def load_model(self, path = None) : \n",
    "    if path is None: path = os.getcwd()\n",
    "    return self.ae.load_model(os.path.join(\"drive/MyDrive/Challenge(1)/dataset/conv1_checkpoints\", prefix + 'model_auto.h5'))\n",
    "\n",
    "  def encode(self, input):\n",
    "        return self.encoder.predict(input) #this is what we will be confronting - predict on test data\n",
    "\n",
    "\n",
    "  def decode(self, codes):\n",
    "        return self.decoder.predict(codes)#reconstructed image\n",
    "\n",
    "\n"
   ]
  },
  {
   "cell_type": "markdown",
   "metadata": {
    "id": "s-Rb2x-QCwIU"
   },
   "source": [
    "Checking whether the dataset has been correctly shuffled and importing an automatic Learning Rate Reducer (although Adam has been chosen as main optimizer, it may therefore not be needed) as well as Early Stopping. "
   ]
  },
  {
   "cell_type": "code",
   "execution_count": null,
   "metadata": {
    "colab": {
     "base_uri": "https://localhost:8080/",
     "height": 269
    },
    "id": "RCy4BVfZDrUo",
    "outputId": "0f82d912-0762-4da4-9a27-00770b31c1bb"
   },
   "outputs": [
    {
     "data": {
      "image/png": "[encoded data removed]",
      "text/plain": [
       "<Figure size 432x288 with 1 Axes>"
      ]
     },
     "metadata": {
      "needs_background": "light",
      "tags": []
     },
     "output_type": "display_data"
    }
   ],
   "source": [
    "for img in training_dataset:\n",
    "  plt.imshow(img)\n",
    "  break\n",
    "from tensorflow.keras.callbacks import ReduceLROnPlateau \n",
    "from tensorflow.keras.callbacks import EarlyStopping\n",
    "reduce_lr = ReduceLROnPlateau(monitor='val_loss', factor=0.3,\n",
    "                              patience=3, min_lr=0.00000005)\n",
    "callback = EarlyStopping(monitor='loss', patience=6)\n"
   ]
  },
  {
   "cell_type": "markdown",
   "metadata": {
    "id": "87gU9JImC-bY"
   },
   "source": [
    "Defining the first model for training with three different filters, to avoid information loss 32, 64 and 128. Padding is 2,2 (shift of 2 pixels at time). "
   ]
  },
  {
   "cell_type": "code",
   "execution_count": null,
   "metadata": {
    "id": "dEWLIwWsMMJB"
   },
   "outputs": [],
   "source": [
    "model = ConvAutoEncoder(input_shape=(224, 224,3),\n",
    "            output_dim=224, filters=[32,64,128], optimizer = Adam(10e-6))"
   ]
  },
  {
   "cell_type": "markdown",
   "metadata": {
    "id": "49FK3yIfDIDt"
   },
   "source": [
    "Fitting the model (possible thanks to the Sequential class) on a small batch size and an increased number of epochs (firstly 50, then 60). "
   ]
  },
  {
   "cell_type": "code",
   "execution_count": null,
   "metadata": {
    "colab": {
     "base_uri": "https://localhost:8080/"
    },
    "id": "fGKapnXsF9GV",
    "outputId": "dac7095c-424d-40e2-8f85-23442875aa89"
   },
   "outputs": [
    {
     "name": "stdout",
     "output_type": "stream",
     "text": [
      "Epoch 1/50\n",
      "98/98 [==============================] - 11s 107ms/step - loss: 0.1736 - accuracy: 0.4611 - val_loss: 0.1718 - val_accuracy: 0.5955\n",
      "Epoch 2/50\n",
      "98/98 [==============================] - 10s 107ms/step - loss: 0.1715 - accuracy: 0.5848 - val_loss: 0.1716 - val_accuracy: 0.6126\n",
      "Epoch 3/50\n",
      "98/98 [==============================] - 9s 97ms/step - loss: 0.1704 - accuracy: 0.6036 - val_loss: 0.1709 - val_accuracy: 0.6081\n",
      "Epoch 4/50\n",
      "98/98 [==============================] - 9s 97ms/step - loss: 0.1708 - accuracy: 0.6034 - val_loss: 0.1665 - val_accuracy: 0.6617\n",
      "Epoch 5/50\n",
      "98/98 [==============================] - 10s 97ms/step - loss: 0.1681 - accuracy: 0.6451 - val_loss: 0.1655 - val_accuracy: 0.6603\n",
      "Epoch 6/50\n",
      "98/98 [==============================] - 10s 98ms/step - loss: 0.1656 - accuracy: 0.6413 - val_loss: 0.1651 - val_accuracy: 0.6623\n",
      "Epoch 7/50\n",
      "98/98 [==============================] - 9s 97ms/step - loss: 0.1676 - accuracy: 0.6430 - val_loss: 0.1647 - val_accuracy: 0.6643\n",
      "Epoch 8/50\n",
      "98/98 [==============================] - 10s 98ms/step - loss: 0.1667 - accuracy: 0.6442 - val_loss: 0.1639 - val_accuracy: 0.6672\n",
      "Epoch 9/50\n",
      "98/98 [==============================] - 10s 97ms/step - loss: 0.1632 - accuracy: 0.6486 - val_loss: 0.1621 - val_accuracy: 0.6708\n",
      "Epoch 10/50\n",
      "98/98 [==============================] - 9s 97ms/step - loss: 0.1608 - accuracy: 0.6562 - val_loss: 0.1595 - val_accuracy: 0.6573\n",
      "Epoch 11/50\n",
      "98/98 [==============================] - 10s 97ms/step - loss: 0.1616 - accuracy: 0.6335 - val_loss: 0.1592 - val_accuracy: 0.6282\n",
      "Epoch 12/50\n",
      "98/98 [==============================] - 10s 107ms/step - loss: 0.1588 - accuracy: 0.6034 - val_loss: 0.1592 - val_accuracy: 0.6196\n",
      "Epoch 13/50\n",
      "98/98 [==============================] - 10s 97ms/step - loss: 0.1592 - accuracy: 0.6062 - val_loss: 0.1591 - val_accuracy: 0.6202\n",
      "Epoch 14/50\n",
      "98/98 [==============================] - 10s 97ms/step - loss: 0.1578 - accuracy: 0.5943 - val_loss: 0.1591 - val_accuracy: 0.6198\n",
      "Epoch 15/50\n",
      "98/98 [==============================] - 11s 108ms/step - loss: 0.1595 - accuracy: 0.6108 - val_loss: 0.1591 - val_accuracy: 0.6185\n",
      "Epoch 16/50\n",
      "98/98 [==============================] - 10s 98ms/step - loss: 0.1585 - accuracy: 0.6068 - val_loss: 0.1591 - val_accuracy: 0.6151\n",
      "Epoch 17/50\n",
      "98/98 [==============================] - 11s 108ms/step - loss: 0.1596 - accuracy: 0.6009 - val_loss: 0.1590 - val_accuracy: 0.6130\n",
      "Epoch 18/50\n",
      "98/98 [==============================] - 11s 108ms/step - loss: 0.1579 - accuracy: 0.5925 - val_loss: 0.1590 - val_accuracy: 0.6106\n",
      "Epoch 19/50\n",
      "98/98 [==============================] - 10s 97ms/step - loss: 0.1604 - accuracy: 0.6031 - val_loss: 0.1590 - val_accuracy: 0.6109\n",
      "Epoch 20/50\n",
      "98/98 [==============================] - 10s 98ms/step - loss: 0.1598 - accuracy: 0.5952 - val_loss: 0.1590 - val_accuracy: 0.6091\n",
      "Epoch 21/50\n",
      "98/98 [==============================] - 9s 97ms/step - loss: 0.1581 - accuracy: 0.5844 - val_loss: 0.1590 - val_accuracy: 0.6068\n",
      "Epoch 22/50\n",
      "98/98 [==============================] - 10s 98ms/step - loss: 0.1612 - accuracy: 0.5944 - val_loss: 0.1590 - val_accuracy: 0.6072\n",
      "Epoch 23/50\n",
      "98/98 [==============================] - 10s 97ms/step - loss: 0.1614 - accuracy: 0.5886 - val_loss: 0.1590 - val_accuracy: 0.6058\n",
      "Epoch 24/50\n",
      "98/98 [==============================] - 10s 99ms/step - loss: 0.1608 - accuracy: 0.5913 - val_loss: 0.1590 - val_accuracy: 0.6051\n",
      "Epoch 25/50\n",
      "98/98 [==============================] - 10s 98ms/step - loss: 0.1585 - accuracy: 0.5970 - val_loss: 0.1590 - val_accuracy: 0.6045\n",
      "Epoch 26/50\n",
      "98/98 [==============================] - 10s 98ms/step - loss: 0.1639 - accuracy: 0.6030 - val_loss: 0.1590 - val_accuracy: 0.6046\n",
      "Epoch 27/50\n",
      "98/98 [==============================] - 10s 97ms/step - loss: 0.1606 - accuracy: 0.5947 - val_loss: 0.1590 - val_accuracy: 0.6044\n",
      "Epoch 28/50\n",
      "98/98 [==============================] - 9s 97ms/step - loss: 0.1600 - accuracy: 0.5886 - val_loss: 0.1590 - val_accuracy: 0.6046\n",
      "Epoch 29/50\n",
      "98/98 [==============================] - 11s 108ms/step - loss: 0.1619 - accuracy: 0.5936 - val_loss: 0.1590 - val_accuracy: 0.6046\n",
      "Epoch 30/50\n",
      "98/98 [==============================] - 10s 98ms/step - loss: 0.1589 - accuracy: 0.5843 - val_loss: 0.1590 - val_accuracy: 0.6045\n",
      "Epoch 31/50\n",
      "98/98 [==============================] - 10s 98ms/step - loss: 0.1601 - accuracy: 0.5836 - val_loss: 0.1590 - val_accuracy: 0.6045\n",
      "Epoch 32/50\n",
      "98/98 [==============================] - 10s 97ms/step - loss: 0.1635 - accuracy: 0.5938 - val_loss: 0.1590 - val_accuracy: 0.6045\n",
      "Epoch 33/50\n",
      "98/98 [==============================] - 9s 97ms/step - loss: 0.1608 - accuracy: 0.5982 - val_loss: 0.1590 - val_accuracy: 0.6044\n",
      "Epoch 34/50\n",
      "98/98 [==============================] - 9s 97ms/step - loss: 0.1608 - accuracy: 0.5884 - val_loss: 0.1590 - val_accuracy: 0.6044\n",
      "Epoch 35/50\n",
      "98/98 [==============================] - 10s 97ms/step - loss: 0.1597 - accuracy: 0.5805 - val_loss: 0.1590 - val_accuracy: 0.6044\n",
      "Epoch 36/50\n",
      "98/98 [==============================] - 10s 98ms/step - loss: 0.1591 - accuracy: 0.5902 - val_loss: 0.1590 - val_accuracy: 0.6044\n",
      "Epoch 37/50\n",
      "98/98 [==============================] - 10s 98ms/step - loss: 0.1618 - accuracy: 0.5946 - val_loss: 0.1590 - val_accuracy: 0.6043\n",
      "Epoch 38/50\n",
      "98/98 [==============================] - 10s 97ms/step - loss: 0.1611 - accuracy: 0.5783 - val_loss: 0.1590 - val_accuracy: 0.6043\n",
      "Epoch 39/50\n",
      "98/98 [==============================] - 10s 98ms/step - loss: 0.1589 - accuracy: 0.5916 - val_loss: 0.1590 - val_accuracy: 0.6043\n",
      "Epoch 40/50\n",
      "98/98 [==============================] - 10s 98ms/step - loss: 0.1605 - accuracy: 0.5896 - val_loss: 0.1590 - val_accuracy: 0.6043\n",
      "Epoch 41/50\n",
      "98/98 [==============================] - 10s 98ms/step - loss: 0.1604 - accuracy: 0.5948 - val_loss: 0.1590 - val_accuracy: 0.6042\n",
      "Epoch 42/50\n",
      "98/98 [==============================] - 10s 98ms/step - loss: 0.1593 - accuracy: 0.5868 - val_loss: 0.1590 - val_accuracy: 0.6042\n",
      "Epoch 43/50\n",
      "98/98 [==============================] - 10s 98ms/step - loss: 0.1621 - accuracy: 0.5901 - val_loss: 0.1590 - val_accuracy: 0.6042\n",
      "Epoch 44/50\n",
      "98/98 [==============================] - 11s 108ms/step - loss: 0.1601 - accuracy: 0.5964 - val_loss: 0.1590 - val_accuracy: 0.6042\n",
      "Epoch 45/50\n",
      "98/98 [==============================] - 10s 98ms/step - loss: 0.1630 - accuracy: 0.5936 - val_loss: 0.1590 - val_accuracy: 0.6041\n",
      "Epoch 46/50\n",
      "98/98 [==============================] - 10s 98ms/step - loss: 0.1586 - accuracy: 0.5851 - val_loss: 0.1590 - val_accuracy: 0.6041\n",
      "Epoch 47/50\n",
      "98/98 [==============================] - 10s 98ms/step - loss: 0.1607 - accuracy: 0.5864 - val_loss: 0.1590 - val_accuracy: 0.6041\n",
      "Epoch 48/50\n",
      "98/98 [==============================] - 10s 97ms/step - loss: 0.1622 - accuracy: 0.5982 - val_loss: 0.1590 - val_accuracy: 0.6040\n",
      "Epoch 49/50\n",
      "98/98 [==============================] - 10s 97ms/step - loss: 0.1617 - accuracy: 0.5921 - val_loss: 0.1590 - val_accuracy: 0.6041\n",
      "Epoch 50/50\n",
      "98/98 [==============================] - 9s 97ms/step - loss: 0.1574 - accuracy: 0.5859 - val_loss: 0.1590 - val_accuracy: 0.6040\n"
     ]
    }
   ],
   "source": [
    "#model.ae.get_weights()\n",
    "history= model.fit(training_dataset, epochs=50, batch_size =16, verbose = 1, validation_split = 0.3, callbacks = [callback, reduce_lr])\n"
   ]
  },
  {
   "cell_type": "markdown",
   "metadata": {
    "id": "OkX-wkz4FKdM"
   },
   "source": [
    "Plotting model performance according to training and validation loss "
   ]
  },
  {
   "cell_type": "code",
   "execution_count": null,
   "metadata": {
    "colab": {
     "base_uri": "https://localhost:8080/",
     "height": 299
    },
    "id": "9Qxbid3AmbyM",
    "outputId": "1238a56d-3cd2-4e9e-d5fc-57f6337418a3"
   },
   "outputs": [
    {
     "data": {
      "image/png": "[encoded data removed]",
      "text/plain": [
       "<Figure size 432x288 with 1 Axes>"
      ]
     },
     "metadata": {
      "tags": []
     },
     "output_type": "display_data"
    }
   ],
   "source": [
    "def plot_training(H, plotPath):\n",
    "\t# construct a plot that plots and saves the training history\n",
    "\tplt.style.use(\"ggplot\")\n",
    "\tplt.figure()\n",
    "\tplt.plot(H.history[\"loss\"], label=\"train_loss\")\n",
    "\tplt.plot(H.history[\"val_loss\"], label=\"val_loss\")\n",
    "\tplt.title(\"Training Loss\")\n",
    "\tplt.xlabel(\"Epoch #\")\n",
    "\tplt.ylabel(\"Loss\")\n",
    "\tplt.legend(loc=\"lower left\")\n",
    "\tplt.savefig(plotPath)\n",
    "\n",
    "plot_training(history, data_path)"
   ]
  },
  {
   "cell_type": "markdown",
   "metadata": {
    "id": "i8_kOkDFFUML"
   },
   "source": [
    "Saving model weights for further training "
   ]
  },
  {
   "cell_type": "code",
   "execution_count": null,
   "metadata": {
    "id": "O5TEQAgQ_hnc"
   },
   "outputs": [],
   "source": [
    "model.save_weights()\n"
   ]
  },
  {
   "cell_type": "markdown",
   "metadata": {
    "id": "42WqAK0GFaSj"
   },
   "source": [
    "Creating a new model to be trained with the same parameters for the model class, but different training parameters. "
   ]
  },
  {
   "cell_type": "code",
   "execution_count": null,
   "metadata": {
    "colab": {
     "base_uri": "https://localhost:8080/"
    },
    "id": "vM7s5wJXKPCa",
    "outputId": "5f591789-e6ee-49d1-f577-9ac9ccd223b2"
   },
   "outputs": [
    {
     "name": "stdout",
     "output_type": "stream",
     "text": [
      "Model: \"sequential_2\"\n",
      "_________________________________________________________________\n",
      "Layer (type)                 Output Shape              Param #   \n",
      "=================================================================\n",
      "module_wrapper_17 (ModuleWra (None, 224, 224, 3)       0         \n",
      "_________________________________________________________________\n",
      "module_wrapper_18 (ModuleWra (None, 112, 112, 32)      896       \n",
      "_________________________________________________________________\n",
      "module_wrapper_19 (ModuleWra (None, 56, 56, 32)        0         \n",
      "_________________________________________________________________\n",
      "module_wrapper_20 (ModuleWra (None, 56, 56, 32)        0         \n",
      "_________________________________________________________________\n",
      "module_wrapper_21 (ModuleWra (None, 28, 28, 64)        18496     \n",
      "_________________________________________________________________\n",
      "module_wrapper_22 (ModuleWra (None, 14, 14, 64)        0         \n",
      "_________________________________________________________________\n",
      "module_wrapper_23 (ModuleWra (None, 7, 7, 128)         73856     \n",
      "_________________________________________________________________\n",
      "module_wrapper_24 (ModuleWra (None, 3, 3, 128)         0         \n",
      "_________________________________________________________________\n",
      "module_wrapper_25 (ModuleWra (None, 3, 3, 128)         0         \n",
      "_________________________________________________________________\n",
      "module_wrapper_26 (ModuleWra (None, 1152)              0         \n",
      "_________________________________________________________________\n",
      "module_wrapper_27 (ModuleWra (None, 224)               258272    \n",
      "=================================================================\n",
      "Total params: 351,520\n",
      "Trainable params: 351,520\n",
      "Non-trainable params: 0\n",
      "_________________________________________________________________\n"
     ]
    }
   ],
   "source": [
    "new_model = ConvAutoEncoder(input_shape=(224, 224,3),\n",
    "            output_dim=224, filters=[32,64,128], optimizer = Adam(10e-3))\n",
    "new_model.encoder.summary()\n"
   ]
  },
  {
   "cell_type": "markdown",
   "metadata": {
    "id": "D4cB7jMpI2HG"
   },
   "source": [
    "Creating some noise in the dataset for the model to have some troubles in learning good and representative features. "
   ]
  },
  {
   "cell_type": "code",
   "execution_count": null,
   "metadata": {
    "id": "0jQr4l-hKY6C"
   },
   "outputs": [],
   "source": [
    "noise_factor = 0.4\n",
    "training_dataset_noisy = training_dataset + noise_factor * np.random.normal(loc=0.0, scale=1.0, size=training_dataset.shape) \n",
    "training_dataset_noisy = np.clip(training_dataset_noisy, 0., 1.)"
   ]
  },
  {
   "cell_type": "markdown",
   "metadata": {
    "id": "wtzntuiyKjIh"
   },
   "source": [
    "We append the pre-saved weigths to the newly created layers. Training will be performed over a higher starting learning rate, less epochs and larger batch size. "
   ]
  },
  {
   "cell_type": "code",
   "execution_count": null,
   "metadata": {
    "id": "P95j1FwiKdK7"
   },
   "outputs": [],
   "source": [
    "for l1,l2 in zip(model.ae.layers,new_model.ae.layers):\n",
    "    l1.set_weights(l2.get_weights())"
   ]
  },
  {
   "cell_type": "code",
   "execution_count": null,
   "metadata": {
    "colab": {
     "base_uri": "https://localhost:8080/"
    },
    "id": "w-N9pIxIKlPM",
    "outputId": "a0f59679-0c5c-41f1-b328-34cc8b99c72b"
   },
   "outputs": [
    {
     "name": "stdout",
     "output_type": "stream",
     "text": [
      "Epoch 1/20\n",
      "56/56 [==============================] - 51s 184ms/step - loss: 0.1685 - accuracy: 0.5668 - val_loss: 0.1648 - val_accuracy: 0.6423\n",
      "Epoch 2/20\n",
      "56/56 [==============================] - 9s 157ms/step - loss: 0.1638 - accuracy: 0.6605 - val_loss: 0.1582 - val_accuracy: 0.6842\n",
      "Epoch 3/20\n",
      "56/56 [==============================] - 9s 159ms/step - loss: 0.1578 - accuracy: 0.6675 - val_loss: 0.1577 - val_accuracy: 0.6649\n",
      "Epoch 4/20\n",
      "56/56 [==============================] - 9s 158ms/step - loss: 0.1613 - accuracy: 0.6479 - val_loss: 0.1569 - val_accuracy: 0.6042\n",
      "Epoch 5/20\n",
      "56/56 [==============================] - 9s 158ms/step - loss: 0.1583 - accuracy: 0.5970 - val_loss: 0.1566 - val_accuracy: 0.6088\n",
      "Epoch 6/20\n",
      "56/56 [==============================] - 9s 158ms/step - loss: 0.1592 - accuracy: 0.5994 - val_loss: 0.1566 - val_accuracy: 0.6153\n",
      "Epoch 7/20\n",
      "56/56 [==============================] - 9s 163ms/step - loss: 0.1608 - accuracy: 0.6035 - val_loss: 0.1566 - val_accuracy: 0.6312\n",
      "Epoch 8/20\n",
      "56/56 [==============================] - 9s 159ms/step - loss: 0.1604 - accuracy: 0.6175 - val_loss: 0.1565 - val_accuracy: 0.6367\n",
      "Epoch 9/20\n",
      "56/56 [==============================] - 9s 157ms/step - loss: 0.1592 - accuracy: 0.6228 - val_loss: 0.1563 - val_accuracy: 0.6263\n",
      "Epoch 10/20\n",
      "56/56 [==============================] - 9s 157ms/step - loss: 0.1596 - accuracy: 0.6312 - val_loss: 0.1562 - val_accuracy: 0.6315\n",
      "Epoch 11/20\n",
      "56/56 [==============================] - 9s 157ms/step - loss: 0.1579 - accuracy: 0.6431 - val_loss: 0.1562 - val_accuracy: 0.6588\n",
      "Epoch 12/20\n",
      "56/56 [==============================] - 9s 158ms/step - loss: 0.1585 - accuracy: 0.6541 - val_loss: 0.1562 - val_accuracy: 0.6417\n",
      "Epoch 13/20\n",
      "56/56 [==============================] - 9s 158ms/step - loss: 0.1594 - accuracy: 0.6563 - val_loss: 0.1561 - val_accuracy: 0.6569\n",
      "Epoch 14/20\n",
      "56/56 [==============================] - 9s 158ms/step - loss: 0.1601 - accuracy: 0.6498 - val_loss: 0.1561 - val_accuracy: 0.6643\n",
      "Epoch 15/20\n",
      "56/56 [==============================] - 9s 159ms/step - loss: 0.1585 - accuracy: 0.6591 - val_loss: 0.1561 - val_accuracy: 0.6845\n",
      "Epoch 16/20\n",
      "56/56 [==============================] - 9s 157ms/step - loss: 0.1575 - accuracy: 0.6671 - val_loss: 0.1560 - val_accuracy: 0.7027\n",
      "Epoch 17/20\n",
      "56/56 [==============================] - 9s 159ms/step - loss: 0.1585 - accuracy: 0.6727 - val_loss: 0.1560 - val_accuracy: 0.6753\n",
      "Epoch 18/20\n",
      "56/56 [==============================] - 9s 157ms/step - loss: 0.1567 - accuracy: 0.6679 - val_loss: 0.1560 - val_accuracy: 0.6907\n",
      "Epoch 19/20\n",
      "56/56 [==============================] - 9s 158ms/step - loss: 0.1569 - accuracy: 0.6820 - val_loss: 0.1560 - val_accuracy: 0.7044\n",
      "Epoch 20/20\n",
      "56/56 [==============================] - 9s 157ms/step - loss: 0.1576 - accuracy: 0.6824 - val_loss: 0.1560 - val_accuracy: 0.6883\n"
     ]
    }
   ],
   "source": [
    "for layer in new_model.ae.layers:\n",
    "    layer.trainable = True\n",
    "classify_train = new_model.fit(training_dataset, epochs=20, batch_size = 32, verbose = 1, validation_split = 0.2, callbacks = [reduce_lr, callback])"
   ]
  },
  {
   "cell_type": "markdown",
   "metadata": {
    "id": "dHmigqaqK0E7"
   },
   "source": [
    "Printing model performance again "
   ]
  },
  {
   "cell_type": "code",
   "execution_count": null,
   "metadata": {
    "colab": {
     "base_uri": "https://localhost:8080/",
     "height": 299
    },
    "id": "Tf77IE1JTD1a",
    "outputId": "73a48ed5-b8b8-484b-8d62-3500356c869c"
   },
   "outputs": [
    {
     "data": {
      "image/png": "[encoded data removed]",
      "text/plain": [
       "<Figure size 432x288 with 1 Axes>"
      ]
     },
     "metadata": {
      "tags": []
     },
     "output_type": "display_data"
    }
   ],
   "source": [
    "def plot_training(H, plotPath):\n",
    "\t# construct a plot that plots and saves the training history\n",
    "\tplt.style.use(\"ggplot\")\n",
    "\tplt.figure()\n",
    "\tplt.plot(H.history[\"loss\"], label=\"train_loss\")\n",
    "\tplt.plot(H.history[\"val_loss\"], label=\"val_loss\")\n",
    "\tplt.title(\"Training Loss\")\n",
    "\tplt.xlabel(\"Epoch #\")\n",
    "\tplt.ylabel(\"Loss\")\n",
    "\tplt.legend(loc=\"lower left\")\n",
    "\tplt.savefig(plotPath)\n",
    "\n",
    "plot_training(classify_train, data_path)"
   ]
  },
  {
   "cell_type": "code",
   "execution_count": null,
   "metadata": {
    "colab": {
     "base_uri": "https://localhost:8080/"
    },
    "id": "hjWy-8jiz35G",
    "outputId": "300c5f75-be26-4a68-81e0-88acfb7cde56"
   },
   "outputs": [
    {
     "name": "stdout",
     "output_type": "stream",
     "text": [
      "7\n"
     ]
    }
   ],
   "source": [
    "print(len(model.encoder.layers))"
   ]
  },
  {
   "cell_type": "code",
   "execution_count": null,
   "metadata": {
    "colab": {
     "base_uri": "https://localhost:8080/"
    },
    "id": "DAvD9bH4sfH5",
    "outputId": "03e5ffd7-1cad-406c-b33e-768a7227e598"
   },
   "outputs": [
    {
     "data": {
      "text/plain": [
       "array([[[ 6.30194396e-02,  1.76427066e-02,  4.57160473e-02,\n",
       "          6.29471242e-02,  1.47593915e-02, -9.09895897e-02,\n",
       "         -2.75337622e-02, -2.04007328e-03, -7.53620267e-03,\n",
       "         -1.07533246e-01,  5.56050539e-02, -2.85499617e-02,\n",
       "         -1.00703344e-01, -6.19218349e-02,  1.03288814e-01,\n",
       "         -2.95252278e-02,  3.34910303e-02, -4.16921750e-02,\n",
       "         -5.64215556e-02, -1.09419845e-01,  9.23393816e-02,\n",
       "         -1.16282098e-01, -2.84215361e-02,  5.31321168e-02,\n",
       "         -1.07581846e-01,  6.72393292e-02, -6.85965568e-02,\n",
       "         -4.41528335e-02,  8.36816132e-02, -7.94576406e-02,\n",
       "          6.74999654e-02, -6.84412792e-02],\n",
       "        [-6.52499646e-02,  1.19001254e-01,  3.53690386e-02,\n",
       "         -3.85740399e-02, -1.18946865e-01, -1.26697809e-01,\n",
       "         -3.97992879e-02, -7.51912594e-05,  1.24575153e-01,\n",
       "         -6.20059744e-02, -9.51068103e-02,  1.37997404e-01,\n",
       "          1.09894633e-01, -1.91923007e-02,  1.03132904e-01,\n",
       "         -1.20233446e-01, -5.68796545e-02, -1.18082158e-01,\n",
       "          1.10475212e-01, -6.04317039e-02,  1.32079273e-02,\n",
       "         -6.47066459e-02,  3.27486545e-02,  3.29654962e-02,\n",
       "         -3.06680501e-02, -9.53408927e-02,  1.35150552e-03,\n",
       "         -7.00030476e-02, -6.99151903e-02, -1.19612664e-01,\n",
       "          3.81000787e-02, -8.86192843e-02],\n",
       "        [ 1.81128532e-02, -7.01192692e-02, -6.08636141e-02,\n",
       "          1.29537717e-01,  1.27938583e-01,  1.01771802e-02,\n",
       "         -3.44711915e-02,  3.91731113e-02,  4.88606989e-02,\n",
       "          1.37537196e-01,  1.07875913e-01, -1.70699358e-02,\n",
       "          1.20252773e-01,  6.56541735e-02, -1.97761357e-02,\n",
       "         -7.11655766e-02,  3.17291617e-02, -1.28042668e-01,\n",
       "          4.72126603e-02, -1.07890233e-01, -1.31450325e-01,\n",
       "          5.52021265e-02, -7.17096031e-03, -3.40676159e-02,\n",
       "          7.58415461e-03,  8.40572864e-02,  1.16816178e-01,\n",
       "          3.92159820e-03,  5.51029295e-02,  8.81305784e-02,\n",
       "          4.40902859e-02,  8.86217505e-02]],\n",
       "\n",
       "       [[ 1.33235231e-01,  1.27455726e-01, -9.84754488e-02,\n",
       "          5.19843996e-02, -3.90746891e-02, -1.25227317e-01,\n",
       "         -2.93864384e-02, -2.24635005e-04,  1.28913522e-02,\n",
       "         -4.61005718e-02,  1.00013688e-01,  2.44680047e-02,\n",
       "          6.24075085e-02, -5.07677048e-02,  7.78283179e-03,\n",
       "         -1.09485060e-01,  7.32389390e-02, -5.19679114e-02,\n",
       "         -9.03548524e-02, -8.54803547e-02, -1.66101232e-02,\n",
       "          1.29212722e-01,  8.60798806e-02, -2.25615650e-02,\n",
       "         -8.02741796e-02,  1.11997798e-01,  3.88811082e-02,\n",
       "          7.86752254e-02,  4.13684845e-02, -3.39210033e-04,\n",
       "         -1.93326175e-03, -1.76443905e-02],\n",
       "        [ 1.72337741e-02, -2.11120397e-02,  1.35819465e-02,\n",
       "         -1.18538156e-01,  1.34305879e-01, -1.35746688e-01,\n",
       "         -5.70553318e-02, -9.65512693e-02,  3.10774893e-02,\n",
       "         -7.88893700e-02,  9.66402441e-02, -5.13723940e-02,\n",
       "         -8.81830305e-02,  8.06119740e-02,  1.01472825e-01,\n",
       "          2.18577981e-02, -3.75619531e-02,  3.86090875e-02,\n",
       "          9.47256386e-03,  2.19883025e-02, -5.37132472e-02,\n",
       "          9.83643681e-02,  1.30581185e-01, -1.10020690e-01,\n",
       "          6.62489533e-02,  1.77609473e-02, -1.13723308e-01,\n",
       "          8.00221562e-02,  6.45005852e-02,  1.35604545e-01,\n",
       "         -7.24414289e-02,  1.35679498e-01],\n",
       "        [ 7.26073980e-02,  1.04058757e-01, -1.35927632e-01,\n",
       "          4.51433659e-02,  6.31480664e-02, -7.67454505e-03,\n",
       "          3.25400084e-02, -8.53863508e-02,  2.73478776e-02,\n",
       "         -9.26837325e-04,  1.89012885e-02, -1.10644169e-01,\n",
       "          1.29027173e-01, -6.12377077e-02, -2.77368501e-02,\n",
       "          2.98836231e-02,  6.29852861e-02, -1.35019660e-01,\n",
       "          6.43764436e-02, -4.63905931e-02, -3.77192721e-02,\n",
       "          5.53437471e-02, -1.65364519e-02, -7.64384195e-02,\n",
       "          7.79859722e-03, -6.16915673e-02,  2.78062373e-02,\n",
       "         -1.22080445e-02,  8.00628960e-03, -9.29308087e-02,\n",
       "          1.04002550e-01, -3.49919125e-02]],\n",
       "\n",
       "       [[-1.17996342e-01,  1.99361145e-03, -5.16778827e-02,\n",
       "         -1.81937367e-02, -1.05674714e-01, -1.82014704e-02,\n",
       "          8.36625546e-02, -9.35556442e-02, -1.58422217e-02,\n",
       "          1.20197549e-01,  5.53172976e-02,  9.75580513e-03,\n",
       "          4.98784184e-02,  1.22117177e-01, -8.41832161e-02,\n",
       "          1.84473693e-02,  8.62146914e-03,  7.25997090e-02,\n",
       "         -7.59412944e-02,  8.94739181e-02,  1.31706908e-01,\n",
       "          1.74688399e-02,  5.76823056e-02, -1.36765748e-01,\n",
       "         -6.14852831e-02, -7.46593177e-02, -6.54934645e-02,\n",
       "          6.45218790e-03,  1.25374928e-01,  1.29929930e-02,\n",
       "          1.64452642e-02,  7.46962428e-02],\n",
       "        [ 1.24475375e-01, -9.25139412e-02,  5.14744371e-02,\n",
       "         -1.31690860e-01,  4.84921932e-02,  1.35070041e-01,\n",
       "          2.08074450e-02, -1.32543132e-01,  9.79071110e-02,\n",
       "          8.94795507e-02,  9.75552946e-02, -9.52472165e-02,\n",
       "         -1.36626557e-01,  7.82281458e-02,  1.30416155e-02,\n",
       "         -1.28148094e-01, -8.14652294e-02, -3.99940163e-02,\n",
       "          7.48337507e-02,  1.84353292e-02,  1.55425966e-02,\n",
       "          9.73051190e-02, -3.98551226e-02,  1.10862687e-01,\n",
       "         -1.03040114e-01,  3.38990092e-02, -6.20023906e-03,\n",
       "         -1.13069363e-01, -8.74398649e-03, -1.16532996e-01,\n",
       "         -1.18921496e-01, -1.10819191e-01],\n",
       "        [ 7.86035657e-02, -1.18734434e-01,  1.19263127e-01,\n",
       "         -1.15727618e-01,  1.34282216e-01, -1.04971036e-01,\n",
       "          7.29418099e-02,  6.43511415e-02,  9.56213474e-02,\n",
       "          1.02559641e-01, -1.35325477e-01, -1.81374028e-02,\n",
       "          1.25615522e-01,  1.25107571e-01, -7.14835674e-02,\n",
       "         -1.20913260e-01,  8.20572525e-02, -2.09150389e-02,\n",
       "         -1.15119040e-01,  3.64482403e-04, -1.11399896e-01,\n",
       "         -8.27199668e-02, -8.15343708e-02, -1.12150759e-02,\n",
       "         -1.06196851e-01,  4.88248616e-02, -9.37889069e-02,\n",
       "         -4.95943129e-02,  7.17770457e-02,  4.60339040e-02,\n",
       "          1.24694571e-01, -8.70071799e-02]]], dtype=float32)"
      ]
     },
     "execution_count": 10,
     "metadata": {
      "tags": []
     },
     "output_type": "execute_result"
    }
   ],
   "source": [
    "model.ae.get_weights()[0][1]"
   ]
  },
  {
   "cell_type": "code",
   "execution_count": null,
   "metadata": {
    "colab": {
     "base_uri": "https://localhost:8080/"
    },
    "id": "bOTHmgRksx-m",
    "outputId": "1c4a560a-5585-409f-93b8-3ef1dd5270c5"
   },
   "outputs": [
    {
     "data": {
      "text/plain": [
       "array([[[ 0.12234294, -0.07500463,  0.13429286,  0.10885696,\n",
       "          0.06539884,  0.03363825,  0.13666034,  0.00521084,\n",
       "         -0.08044463, -0.02213892, -0.10391934, -0.05381845,\n",
       "          0.00594034,  0.08495408, -0.08077893,  0.06381074,\n",
       "         -0.05897554, -0.0695977 , -0.01628928,  0.03257927,\n",
       "          0.13678156,  0.03411769,  0.10291231, -0.09857502,\n",
       "         -0.10292147,  0.02288858, -0.13051368, -0.0315546 ,\n",
       "          0.06965494,  0.01896513, -0.05704151,  0.10424858],\n",
       "        [ 0.04359286, -0.11186472,  0.05767493,  0.01363475,\n",
       "         -0.11545887,  0.03412541, -0.07736792,  0.10976314,\n",
       "         -0.07838079,  0.12215045,  0.06719729,  0.03453414,\n",
       "          0.08481283, -0.09322656, -0.04196858,  0.13352443,\n",
       "         -0.10867505,  0.05096602,  0.0901924 , -0.03141071,\n",
       "         -0.04223055,  0.05279013,  0.05486338,  0.08827671,\n",
       "         -0.01132474,  0.03654436,  0.04596699,  0.04449021,\n",
       "          0.11390833,  0.11839234,  0.12514707,  0.08919062],\n",
       "        [ 0.02576868, -0.0036046 , -0.06777221,  0.06045522,\n",
       "          0.10546368,  0.12506346,  0.0720719 , -0.11095911,\n",
       "          0.06075244, -0.07295037,  0.04694163, -0.02480479,\n",
       "          0.00450874,  0.1059356 ,  0.11762307,  0.08321197,\n",
       "         -0.01725831,  0.0092984 ,  0.08406895,  0.07733407,\n",
       "          0.02965282,  0.00773739,  0.03632224, -0.11898483,\n",
       "          0.078132  ,  0.08663277,  0.04017181, -0.08868504,\n",
       "         -0.04647025,  0.13535616, -0.12566927,  0.05279955]],\n",
       "\n",
       "       [[ 0.06307239,  0.03321977,  0.03300635, -0.12324877,\n",
       "          0.05358948,  0.02152349,  0.0690449 ,  0.03331035,\n",
       "          0.01633601,  0.09649465,  0.02595147, -0.07161274,\n",
       "         -0.03904561,  0.07389649, -0.11846218, -0.00915908,\n",
       "         -0.05702003,  0.08428559, -0.05125996,  0.07453454,\n",
       "          0.1371601 ,  0.10481521, -0.05998179, -0.11014847,\n",
       "         -0.10755482, -0.05853747,  0.06232644,  0.1440554 ,\n",
       "         -0.06518394, -0.00511356,  0.10377662, -0.11247498],\n",
       "        [-0.07333077, -0.03696476,  0.05359132, -0.07249308,\n",
       "         -0.01880785,  0.10187788, -0.01845776, -0.12257183,\n",
       "         -0.1268325 ,  0.08281666, -0.03849808, -0.04913906,\n",
       "         -0.03518422,  0.05368088, -0.00621499,  0.11748186,\n",
       "          0.01581768,  0.01220055,  0.01005231, -0.0507876 ,\n",
       "          0.09674051,  0.01557624, -0.12478647, -0.09608638,\n",
       "         -0.0647165 ,  0.07466477, -0.02028629, -0.06030565,\n",
       "         -0.06851061, -0.08143868,  0.0883576 ,  0.07469422],\n",
       "        [-0.13019715,  0.09751943, -0.04185948,  0.11582419,\n",
       "         -0.03847685,  0.05492319, -0.11452269, -0.06601752,\n",
       "          0.11155353, -0.09563101,  0.06887694, -0.11354653,\n",
       "          0.10674284, -0.07656419,  0.00900013,  0.0707975 ,\n",
       "          0.12030382, -0.03737128,  0.14445615, -0.08215544,\n",
       "         -0.05620024,  0.12958622,  0.01566806, -0.0695408 ,\n",
       "         -0.07962704,  0.02353771, -0.02317395, -0.12266632,\n",
       "          0.01888067,  0.08005836,  0.08348085,  0.01553061]],\n",
       "\n",
       "       [[ 0.0223002 ,  0.02771328, -0.00578975,  0.12814026,\n",
       "         -0.07468876, -0.0123994 ,  0.10025936,  0.02916561,\n",
       "         -0.04972891,  0.1314552 ,  0.02791246,  0.04513409,\n",
       "          0.04257212,  0.12119278, -0.07239761,  0.05706873,\n",
       "          0.09337229,  0.12745228, -0.05062218, -0.0068642 ,\n",
       "          0.09717707, -0.12185552, -0.11431076,  0.00379043,\n",
       "          0.0812487 ,  0.06533631,  0.11840694,  0.09791948,\n",
       "          0.06495048, -0.12955664, -0.09036976, -0.04880072],\n",
       "        [ 0.13467354, -0.10701294, -0.02072927,  0.00557806,\n",
       "         -0.05921003, -0.04970232,  0.06507801,  0.12159593,\n",
       "          0.03812385, -0.07240488, -0.08516536,  0.00775739,\n",
       "         -0.09535389, -0.04795727, -0.00379809, -0.05632569,\n",
       "         -0.04757011, -0.02667385, -0.02664999,  0.00129858,\n",
       "         -0.06246333,  0.03382156, -0.07891949,  0.00111005,\n",
       "          0.11638772, -0.02010283,  0.04144972,  0.09223542,\n",
       "         -0.07898195,  0.07564885,  0.00100433,  0.12852763],\n",
       "        [-0.09739254,  0.00540367,  0.05633711, -0.1078117 ,\n",
       "         -0.1078951 , -0.02165442,  0.09679855,  0.03669919,\n",
       "         -0.02113609, -0.05880555, -0.01276662,  0.08310582,\n",
       "          0.06283898,  0.09184386, -0.01697928, -0.0356979 ,\n",
       "         -0.10866044,  0.00733179,  0.08238647, -0.08816729,\n",
       "         -0.07264087, -0.01701624, -0.10169695, -0.11478455,\n",
       "         -0.11474039,  0.12890396, -0.03140799, -0.11487379,\n",
       "          0.12473045, -0.13190316, -0.07110211, -0.09081026]]],\n",
       "      dtype=float32)"
      ]
     },
     "execution_count": 151,
     "metadata": {
      "tags": []
     },
     "output_type": "execute_result"
    }
   ],
   "source": [
    "full_model.get_weights()[0][1]"
   ]
  },
  {
   "cell_type": "code",
   "execution_count": null,
   "metadata": {
    "colab": {
     "base_uri": "https://localhost:8080/"
    },
    "id": "jfFtGEakxaJk",
    "outputId": "11ff3ee3-0337-4ff1-a188-ba1ee6b07cbf"
   },
   "outputs": [
    {
     "name": "stdout",
     "output_type": "stream",
     "text": [
      "(2233, 224, 224, 3)\n"
     ]
    }
   ],
   "source": [
    "print(training_dataset.shape)"
   ]
  },
  {
   "cell_type": "code",
   "execution_count": null,
   "metadata": {
    "colab": {
     "base_uri": "https://localhost:8080/"
    },
    "id": "a-RGj9CwxdcD",
    "outputId": "b740f24e-1775-4589-c4bc-5874a831e369"
   },
   "outputs": [
    {
     "name": "stdout",
     "output_type": "stream",
     "text": [
      "(112, 224, 224, 3)\n"
     ]
    }
   ],
   "source": [
    "print(test_dataset.shape)"
   ]
  },
  {
   "cell_type": "markdown",
   "metadata": {
    "id": "OsLUO3pFK4ac"
   },
   "source": [
    "Setting a new optimizer starting rate, commenting in order to avoid weight overloading and consequent overfitting. "
   ]
  },
  {
   "cell_type": "code",
   "execution_count": null,
   "metadata": {
    "colab": {
     "base_uri": "https://localhost:8080/"
    },
    "id": "-drEfNlfMWd_",
    "outputId": "e192626d-c398-46c7-9717-530919e9e993"
   },
   "outputs": [
    {
     "name": "stdout",
     "output_type": "stream",
     "text": [
      "Model: \"model_2\"\n",
      "_________________________________________________________________\n",
      "Layer (type)                 Output Shape              Param #   \n",
      "=================================================================\n",
      "Total params: 23,153,827\n",
      "Trainable params: 23,153,827\n",
      "Non-trainable params: 0\n",
      "_________________________________________________________________\n"
     ]
    }
   ],
   "source": [
    "new_model = ConvAutoEncoder(input_shape=(224,224,3),\n",
    "            output_dim=224, filters=[32,64,128], optimizer = Adam(10e-2))\n",
    "new_model.ae.summary()\n",
    "\n",
    "#for l1,l2 in zip(new_model.ae.layers,model.ae.layers):\n",
    "#    l1.set_weights(l2.get_weights())"
   ]
  },
  {
   "cell_type": "markdown",
   "metadata": {
    "id": "uosHtaPLK9GK"
   },
   "source": [
    "adding some different noise "
   ]
  },
  {
   "cell_type": "code",
   "execution_count": null,
   "metadata": {
    "id": "sZuh7AS_NlC8"
   },
   "outputs": [],
   "source": [
    "noise_factor = 0.2\n",
    "training_dataset_noisy = training_dataset+ noise_factor * np.random.normal(loc=0.0, scale=1.0, size=training_dataset.shape) \n",
    "training_dataset_noisy = np.clip(training_dataset_noisy, 0., 1.)\n"
   ]
  },
  {
   "cell_type": "markdown",
   "metadata": {
    "id": "55fC3ELYK__z"
   },
   "source": [
    "saving and loading weights "
   ]
  },
  {
   "cell_type": "code",
   "execution_count": null,
   "metadata": {
    "id": "CajvjRoMjIco"
   },
   "outputs": [],
   "source": [
    "for l1,l2 in zip(model.ae.layers,new_model.ae.layers):\n",
    "    l2.set_weights(l1.get_weights())"
   ]
  },
  {
   "cell_type": "markdown",
   "metadata": {
    "id": "EIA9_ENvLDzn"
   },
   "source": [
    "Shorter training on fewer epochs to avoid overfitting. "
   ]
  },
  {
   "cell_type": "code",
   "execution_count": null,
   "metadata": {
    "colab": {
     "base_uri": "https://localhost:8080/"
    },
    "id": "idQxKl8LMxtr",
    "outputId": "4f6ea73b-f6ee-4ba2-e8c2-7dc531314157"
   },
   "outputs": [
    {
     "name": "stdout",
     "output_type": "stream",
     "text": [
      "Epoch 1/10\n",
      "28/28 [==============================] - 12s 354ms/step - loss: 0.3366 - accuracy: 0.4566 - val_loss: 0.3604 - val_accuracy: 0.4885\n",
      "Epoch 2/10\n",
      "28/28 [==============================] - 9s 310ms/step - loss: 0.3625 - accuracy: 0.4730 - val_loss: 0.3604 - val_accuracy: 0.4885\n",
      "Epoch 3/10\n",
      "28/28 [==============================] - 8s 294ms/step - loss: 0.3631 - accuracy: 0.4795 - val_loss: 0.3604 - val_accuracy: 0.4885\n",
      "Epoch 4/10\n",
      "28/28 [==============================] - 8s 298ms/step - loss: 0.3637 - accuracy: 0.4785 - val_loss: 0.3604 - val_accuracy: 0.4885\n"
     ]
    }
   ],
   "source": [
    "for layer in new_model.ae.layers:\n",
    "    layer.trainable = True\n",
    "classify_train = new_model.fit(training_dataset_noisy, epochs=10, batch_size = 32, verbose = 1, validation_split = 0.2, callbacks=[callback, reduce_lr], shuffle = True)\n",
    "\n"
   ]
  },
  {
   "cell_type": "code",
   "execution_count": null,
   "metadata": {
    "id": "8dMXKzl_WStH"
   },
   "outputs": [],
   "source": [
    "new_model.save_weights()"
   ]
  },
  {
   "cell_type": "code",
   "execution_count": null,
   "metadata": {
    "colab": {
     "base_uri": "https://localhost:8080/",
     "height": 295
    },
    "id": "0k2z0Wf0Tifb",
    "outputId": "4afa21ae-51a2-4abe-c447-0aeb29e9f0a9"
   },
   "outputs": [
    {
     "data": {
      "image/png": "[encoded data removed]",
      "text/plain": [
       "<Figure size 432x288 with 1 Axes>"
      ]
     },
     "metadata": {
      "needs_background": "light",
      "tags": []
     },
     "output_type": "display_data"
    }
   ],
   "source": [
    "plt.plot(classify_train.history['loss'])\n",
    "plt.plot(classify_train.history['val_loss'])\n",
    "plt.title('model loss')\n",
    "plt.ylabel('loss')\n",
    "plt.xlabel('epoch')\n",
    "plt.legend(['train', 'test'], loc='upper right')\n",
    "plt.show()"
   ]
  },
  {
   "cell_type": "markdown",
   "metadata": {
    "id": "LXPwbqraWtr4"
   },
   "source": [
    "Predictions are based on the pre-trained model encoder. We dropped the decoder since its main use was to understand to what extent the model had learned to reconstruct the picture. Features are then normalised for a better comparison through the norm of vectors below. "
   ]
  },
  {
   "cell_type": "code",
   "execution_count": null,
   "metadata": {
    "id": "3KPFPIzDZckP"
   },
   "outputs": [],
   "source": [
    "def predictions(path):\n",
    "  \"\"\"\n",
    "    Making predictions for the query images and returns N similar images from the dataset.\n",
    "    We can either pass filename or the url for the image.\n",
    "    Arguments:\n",
    "    label - (string) - file name of the query image.\n",
    "    N - (int) - Number of images to be returned\n",
    "    isurl - (string) - if query image is from google is set to True else False(By default = False)\n",
    "  \"\"\"\n",
    "  features = []\n",
    "  for img in path :\n",
    "    original = load_img(img, target_size=(224,224))\n",
    "    numpy_image = img_to_array(original)\n",
    "    image = np.expand_dims(numpy_image, axis=0)\n",
    "    x = preprocess_input(image)\n",
    "    # Extract Features\n",
    "    feature = new_model.encode(x)[0]\n",
    "    normalized = feature / np.linalg.norm(feature)\n",
    "    features.append(normalized)\n",
    "  return features"
   ]
  },
  {
   "cell_type": "markdown",
   "metadata": {
    "id": "Fw5mpZxQXDAm"
   },
   "source": [
    "Predicting features on query and gallery images"
   ]
  },
  {
   "cell_type": "code",
   "execution_count": null,
   "metadata": {
    "id": "ASW0pMziO_RN"
   },
   "outputs": [],
   "source": [
    "features_query = predictions(query_paths)\n",
    "features_gallery = predictions(gallery_paths)\n",
    "\n"
   ]
  },
  {
   "cell_type": "code",
   "execution_count": null,
   "metadata": {
    "id": "FrH4sYOCntr2"
   },
   "outputs": [],
   "source": [
    "from pprint import pprint"
   ]
  },
  {
   "cell_type": "markdown",
   "metadata": {
    "id": "LHS64Xn6XtKd"
   },
   "source": [
    "Image matching through the norm of vectors for query and gallery features. Then, these are sorted in ascending order and the top 10 are returned."
   ]
  },
  {
   "cell_type": "code",
   "execution_count": null,
   "metadata": {
    "colab": {
     "base_uri": "https://localhost:8080/",
     "height": 239
    },
    "id": "bXY-VSGMSEDi",
    "outputId": "6de8388e-aed3-45ef-b76b-2210ef70c2fd"
   },
   "outputs": [
    {
     "ename": "NameError",
     "evalue": "ignored",
     "output_type": "error",
     "traceback": [
      "\u001b[0;31m---------------------------------------------------------------------------\u001b[0m",
      "\u001b[0;31mNameError\u001b[0m                                 Traceback (most recent call last)",
      "\u001b[0;32m<ipython-input-66-551fc0a335a9>\u001b[0m in \u001b[0;36m<module>\u001b[0;34m()\u001b[0m\n\u001b[1;32m      7\u001b[0m \u001b[0;34m\u001b[0m\u001b[0m\n\u001b[1;32m      8\u001b[0m \u001b[0mresults\u001b[0m \u001b[0;34m=\u001b[0m \u001b[0;34m{\u001b[0m\u001b[0;34m}\u001b[0m\u001b[0;34m\u001b[0m\u001b[0;34m\u001b[0m\u001b[0m\n\u001b[0;32m----> 9\u001b[0;31m \u001b[0;32mfor\u001b[0m \u001b[0mimg\u001b[0m \u001b[0;32min\u001b[0m \u001b[0mquery_paths\u001b[0m \u001b[0;34m:\u001b[0m\u001b[0;34m\u001b[0m\u001b[0;34m\u001b[0m\u001b[0m\n\u001b[0m\u001b[1;32m     10\u001b[0m   \u001b[0;31m#results[img] = []\u001b[0m\u001b[0;34m\u001b[0m\u001b[0;34m\u001b[0m\u001b[0;34m\u001b[0m\u001b[0m\n\u001b[1;32m     11\u001b[0m   \u001b[0mresults\u001b[0m\u001b[0;34m[\u001b[0m\u001b[0mos\u001b[0m\u001b[0;34m.\u001b[0m\u001b[0mpath\u001b[0m\u001b[0;34m.\u001b[0m\u001b[0mbasename\u001b[0m\u001b[0;34m(\u001b[0m\u001b[0mimg\u001b[0m\u001b[0;34m)\u001b[0m\u001b[0;34m]\u001b[0m \u001b[0;34m=\u001b[0m \u001b[0;34m[\u001b[0m\u001b[0;34m]\u001b[0m\u001b[0;34m\u001b[0m\u001b[0;34m\u001b[0m\u001b[0m\n",
      "\u001b[0;31mNameError\u001b[0m: name 'query_paths' is not defined"
     ]
    }
   ],
   "source": [
    "def match_img(query_img_feat):\n",
    "  distance = np.linalg.norm(features_gallery - query_img_feat, axis=1) #vectorial distance\n",
    "  acc = np.argsort(distance)[:10]  #top 5 results\n",
    "  scores = [(distance[a], str(gallery_paths[a])) for a in acc]#rank the results\n",
    "  scores.sort(key = lambda x:x, reverse = True) \n",
    "  return (acc, scores)\n",
    "\n",
    "results = {}\n",
    "for img in query_paths : \n",
    "  #results[img] = []\n",
    "  results[os.path.basename(img)] = []\n",
    "for i, feat in enumerate(features_query) : \n",
    "  acc , scores = match_img(feat)\n",
    "  #results[query_paths[i]].extend([sc[1] for sc in scores])\n",
    "  results[os.path.basename(query_paths[i])].extend([os.path.basename(sc[1]) for sc in scores])\n",
    "pprint(results)\n"
   ]
  },
  {
   "cell_type": "code",
   "execution_count": null,
   "metadata": {
    "id": "3zCWEOKKsEH7"
   },
   "outputs": [],
   "source": [
    "import requests\n",
    "import json\n",
    "\n",
    "\n",
    "url = \"http://ec2-18-191-24-254.us-east-2.compute.amazonaws.com/competition/\"\n"
   ]
  },
  {
   "cell_type": "code",
   "execution_count": null,
   "metadata": {
    "id": "L17BHGOjsQKu"
   },
   "outputs": [],
   "source": [
    "mydata = dict()\n",
    "mydata['groupname'] = \"lesdesesperadas\"\n",
    "\n",
    "\n",
    "res = results\n",
    "mydata[\"images\"] = res\n",
    "pprint(mydata)"
   ]
  },
  {
   "cell_type": "code",
   "execution_count": null,
   "metadata": {
    "id": "vHMgnyDnse6q"
   },
   "outputs": [],
   "source": [
    "def submit(results, url):\n",
    "    res = json.dumps(results)\n",
    "    response = requests.post(url, res)\n",
    "    result = json.loads(response.text)\n",
    "    print(f\"accuracy is {result['results']}\")\n",
    "\n",
    "submit(mydata, url)"
   ]
  },
  {
   "cell_type": "code",
   "execution_count": null,
   "metadata": {
    "id": "ivja1l7UzYdR"
   },
   "outputs": [],
   "source": [
    "import glob"
   ]
  },
  {
   "cell_type": "code",
   "execution_count": null,
   "metadata": {
    "colab": {
     "base_uri": "https://localhost:8080/"
    },
    "id": "mFrAayWGDOyh",
    "outputId": "678880d5-4d69-4e0f-cecd-07c64f82bffa"
   },
   "outputs": [
    {
     "name": "stdout",
     "output_type": "stream",
     "text": [
      "Mounted at /content/drive\n",
      "['drive/MyDrive/Challenge(1)/dataset/stl10.zip', 'drive/MyDrive/Challenge(1)/dataset/validation', 'drive/MyDrive/Challenge(1)/dataset/training', 'drive/MyDrive/Challenge(1)/dataset/\\\\second_output.csv', 'drive/MyDrive/Challenge(1)/dataset/stl10.zip (Unzipped Files)', 'drive/MyDrive/Challenge(1)/dataset/siamese_checkpoints', 'drive/MyDrive/Challenge(1)/dataset/variables', 'drive/MyDrive/Challenge(1)/dataset/assets', 'drive/MyDrive/Challenge(1)/dataset/saved_model.pb', 'drive/MyDrive/Challenge(1)/dataset/keras_metadata.pb', 'drive/MyDrive/Challenge(1)/dataset/conv_checkpoints', 'drive/MyDrive/Challenge(1)/dataset/encoder_weights.h5', 'drive/MyDrive/Challenge(1)/dataset/decoder_weights.h5', 'drive/MyDrive/Challenge(1)/dataset/new_dataset_pokemon_animals_clothes', 'drive/MyDrive/Challenge(1)/dataset/conv1_checkpoints', 'drive/MyDrive/Challenge(1)/dataset/test']\n"
     ]
    }
   ],
   "source": [
    "import sys \n",
    "from google.colab import drive \n",
    "import glob\n",
    "\n",
    "path = \"/content/drive\" \n",
    "drive.mount(path, force_remount=True)  \n",
    "data_path = \"drive/MyDrive/Challenge(1)/dataset\"\n",
    "\n",
    "\n",
    "myfiles = glob.glob(os.path.join(data_path, '*')) \n",
    "print(myfiles)"
   ]
  },
  {
   "cell_type": "code",
   "execution_count": null,
   "metadata": {
    "colab": {
     "base_uri": "https://localhost:8080/"
    },
    "id": "kA1NOty7EzFR",
    "outputId": "1cf5a50f-1538-4090-fd51-9111b552f548"
   },
   "outputs": [
    {
     "name": "stderr",
     "output_type": "stream",
     "text": [
      "100%|██████████| 15/15 [00:12<00:00,  1.21it/s]\n",
      "100%|██████████| 408/408 [05:33<00:00,  1.22it/s]\n"
     ]
    }
   ],
   "source": [
    "test_path= os.path.join(data_path, \"test\")\n",
    "\n",
    "gallery_path = os.path.join(test_path, 'gallery')\n",
    "query_path = os.path.join(test_path, 'query')\n",
    "\n",
    "\n",
    "# Loading the images without a class\n",
    "def imag_load(path) : \n",
    "  temp_images = os.listdir(path)\n",
    "  lista = []\n",
    "  for i in temp_images:\n",
    "    img_tmp = os.path.join(path, i)\n",
    "    lista.append(img_tmp)\n",
    "  return lista\n",
    "\n",
    "gallery = imag_load(gallery_path)\n",
    "query = imag_load(query_path)\n",
    "\n",
    "# Converting to a normalized tensor of features both query and gallery\n",
    "query_dataset = convert_to_array(query)\n",
    "gallery_dataset = convert_to_array(gallery)"
   ]
  },
  {
   "cell_type": "code",
   "execution_count": null,
   "metadata": {
    "id": "BCzjhgkMJO1f"
   },
   "outputs": [],
   "source": [
    "features_query = predictions(query)\n",
    "features_gallery = predictions(gallery)"
   ]
  },
  {
   "cell_type": "code",
   "execution_count": null,
   "metadata": {
    "id": "2jQy_FIZKBtH"
   },
   "outputs": [],
   "source": [
    "from pprint import pprint"
   ]
  },
  {
   "cell_type": "code",
   "execution_count": null,
   "metadata": {
    "colab": {
     "base_uri": "https://localhost:8080/"
    },
    "id": "-7WCjMfhJe3I",
    "outputId": "1d564fb0-668c-4466-c06f-3e032beaf94f"
   },
   "outputs": [
    {
     "name": "stdout",
     "output_type": "stream",
     "text": [
      "{'3fpri33.jpg': ['yp9lv9j.jpg',\n",
      "                 'qsfj1ta.jpg',\n",
      "                 'iac9fuq.jpg',\n",
      "                 '79tgriv.jpg',\n",
      "                 'tvggg4f.jpg',\n",
      "                 'cftkf1t.jpg',\n",
      "                 'p49x44a.jpg',\n",
      "                 '2p4ag1j.jpg',\n",
      "                 'mr74wyh.jpg',\n",
      "                 '90e01s6.jpg'],\n",
      " '4uufzmh.jpg': ['50c6lzi.jpg',\n",
      "                 'u5syuyf.jpg',\n",
      "                 '93va364.jpg',\n",
      "                 'f3160u0.jpg',\n",
      "                 'nomdbvc.jpg',\n",
      "                 'ti7d1jn.jpg',\n",
      "                 'iqxl9b0.jpg',\n",
      "                 '1qog9al.jpg',\n",
      "                 'avse4s3.jpg',\n",
      "                 '14uoy8b.jpg'],\n",
      " '5qcsiay.jpg': ['sjwh4lf.jpg',\n",
      "                 'szwz6h0.jpg',\n",
      "                 'y2lje4u.jpg',\n",
      "                 'zajtesc.jpg',\n",
      "                 '4pacixk.jpg',\n",
      "                 'ti7d1jn.jpg',\n",
      "                 'ehevs8e.jpg',\n",
      "                 '1qog9al.jpg',\n",
      "                 'u5syuyf.jpg',\n",
      "                 'xer1uu0.jpg'],\n",
      " '8d6bnrk.jpg': ['2p4ag1j.jpg',\n",
      "                 'ti7d1jn.jpg',\n",
      "                 'kajq9xb.jpg',\n",
      "                 'u5syuyf.jpg',\n",
      "                 'wshzf05.jpg',\n",
      "                 '08ywkog.jpg',\n",
      "                 'nomdbvc.jpg',\n",
      "                 '39gsyrg.jpg',\n",
      "                 'xmzx0qv.jpg',\n",
      "                 'yp9lv9j.jpg'],\n",
      " 'e7hrc0v.jpg': ['sjwh4lf.jpg',\n",
      "                 'cftkf1t.jpg',\n",
      "                 '39gsyrg.jpg',\n",
      "                 'iqxl9b0.jpg',\n",
      "                 'h1myait.jpg',\n",
      "                 'ti7d1jn.jpg',\n",
      "                 'kajq9xb.jpg',\n",
      "                 '1qog9al.jpg',\n",
      "                 'u5syuyf.jpg',\n",
      "                 'szwz6h0.jpg'],\n",
      " 'hx5h2mt.jpg': ['nlpo5xj.jpg',\n",
      "                 '0jizbes.jpg',\n",
      "                 '0rfi0ff.jpg',\n",
      "                 'hch851x.jpg',\n",
      "                 'xvhz7aw.jpg',\n",
      "                 'nam1j41.jpg',\n",
      "                 'g23cuvj.jpg',\n",
      "                 '6s5t4wk.jpg',\n",
      "                 '76y44go.jpg',\n",
      "                 'yisip09.jpg'],\n",
      " 'j4aovhl.jpg': ['ms32kuk.jpg',\n",
      "                 'vw1bdza.jpg',\n",
      "                 'y97kkas.jpg',\n",
      "                 'ytofzr8.jpg',\n",
      "                 't118f2n.jpg',\n",
      "                 'yn5ktce.jpg',\n",
      "                 'hd2bkm1.jpg',\n",
      "                 'i9um9jw.jpg',\n",
      "                 'n3crop5.jpg',\n",
      "                 'eb3amha.jpg'],\n",
      " 'lpy53pe.jpg': ['khmwt2k.jpg',\n",
      "                 'pk07a8j.jpg',\n",
      "                 'taihi7j.jpg',\n",
      "                 'n3crop5.jpg',\n",
      "                 'p99arr3.jpg',\n",
      "                 'rpwe6id.jpg',\n",
      "                 'tuwdg6r.jpg',\n",
      "                 'g00005m.jpg',\n",
      "                 'ytofzr8.jpg',\n",
      "                 'mhg6sm2.jpg'],\n",
      " 'mtb5nrt.jpg': ['vpfxrth.jpg',\n",
      "                 '86v1m5d.jpg',\n",
      "                 'qh067xt.jpg',\n",
      "                 'iac9fuq.jpg',\n",
      "                 'ms32kuk.jpg',\n",
      "                 'aquogx4.jpg',\n",
      "                 'iglxzf5.jpg',\n",
      "                 'taihi7j.jpg',\n",
      "                 'jsmuhpj.jpg',\n",
      "                 'avse4s3.jpg'],\n",
      " 'ndid5ve.jpg': ['efezxsb.jpg',\n",
      "                 'ms32kuk.jpg',\n",
      "                 'm9htiub.jpg',\n",
      "                 '6h1rkk2.jpg',\n",
      "                 'y2lje4u.jpg',\n",
      "                 'szwz6h0.jpg',\n",
      "                 'psc4i5p.jpg',\n",
      "                 'nam1j41.jpg',\n",
      "                 'ky0a2wr.jpg',\n",
      "                 '1qog9al.jpg'],\n",
      " 'ntk86zq.jpg': ['86v1m5d.jpg',\n",
      "                 'yisip09.jpg',\n",
      "                 '00zodse.jpg',\n",
      "                 '6s8p4kb.jpg',\n",
      "                 '3isc7d3.jpg',\n",
      "                 'us8qghk.jpg',\n",
      "                 'hqbdme4.jpg',\n",
      "                 'i7a7b9l.jpg',\n",
      "                 'gl0b5i0.jpg',\n",
      "                 'pt83qq5.jpg'],\n",
      " 'rdpx7ow.jpg': ['gl0b5i0.jpg',\n",
      "                 'ms32kuk.jpg',\n",
      "                 '8hwiv14.jpg',\n",
      "                 'jju9zao.jpg',\n",
      "                 'y8meo2m.jpg',\n",
      "                 '6h1rkk2.jpg',\n",
      "                 'whsj0ly.jpg',\n",
      "                 'i260vws.jpg',\n",
      "                 'g23cuvj.jpg',\n",
      "                 'vwbeiff.jpg'],\n",
      " 'w28vbir.jpg': ['avse4s3.jpg',\n",
      "                 '1qog9al.jpg',\n",
      "                 'wndabkb.jpg',\n",
      "                 '50c6lzi.jpg',\n",
      "                 'kajq9xb.jpg',\n",
      "                 'iqxl9b0.jpg',\n",
      "                 'u5syuyf.jpg',\n",
      "                 '14uoy8b.jpg',\n",
      "                 '93va364.jpg',\n",
      "                 't19aqj3.jpg'],\n",
      " 'ymsrj8g.jpg': ['ky0a2wr.jpg',\n",
      "                 'xpcii72.jpg',\n",
      "                 'u2vc46s.jpg',\n",
      "                 'vur3qkh.jpg',\n",
      "                 'pnbbpr2.jpg',\n",
      "                 'g23cuvj.jpg',\n",
      "                 '6s8p4kb.jpg',\n",
      "                 'whsj0ly.jpg',\n",
      "                 'y8meo2m.jpg',\n",
      "                 '1qog9al.jpg'],\n",
      " 'zc5ipa7.jpg': ['14uoy8b.jpg',\n",
      "                 'vlsbcph.jpg',\n",
      "                 '72jmwl9.jpg',\n",
      "                 'x934hu8.jpg',\n",
      "                 '7mbsa51.jpg',\n",
      "                 'h5ynz5j.jpg',\n",
      "                 'pnxkbnd.jpg',\n",
      "                 '4i7uy3a.jpg',\n",
      "                 '8cyluu5.jpg',\n",
      "                 'u6wjo9q.jpg']}\n"
     ]
    }
   ],
   "source": [
    "def match_img(features_query):\n",
    "  distance = np.linalg.norm(features_gallery - features_query, axis=1) #vectorial distance\n",
    "  acc = np.argsort(distance)[:10]  #top n5 results\n",
    "  scores = [(distance[a], str(gallery[a])) for a in acc]#rank the results\n",
    "  scores.sort(key = lambda x:x, reverse = True) \n",
    "  return (acc, scores)\n",
    "\n",
    "results = {}\n",
    "for img in query : \n",
    "  #results[img] = []\n",
    "  results[os.path.basename(img)] = []\n",
    "for i, feat in enumerate(features_query) : \n",
    "  acc , scores = match_img(feat)\n",
    "  #results[query_paths[i]].extend([sc[1] for sc in scores])\n",
    "  results[os.path.basename(query[i])].extend([os.path.basename(sc[1]) for sc in scores])\n",
    "pprint(results)"
   ]
  },
  {
   "cell_type": "code",
   "execution_count": null,
   "metadata": {
    "id": "IxTVAPVwJ2ot"
   },
   "outputs": [],
   "source": [
    "import requests\n",
    "import json\n",
    "\n",
    "\n",
    "url = \"http://ec2-18-191-24-254.us-east-2.compute.amazonaws.com/competition/\""
   ]
  },
  {
   "cell_type": "code",
   "execution_count": null,
   "metadata": {
    "colab": {
     "base_uri": "https://localhost:8080/"
    },
    "id": "2G3Cqd3MJ7PS",
    "outputId": "14ec9e46-3697-453c-b109-cbbaf011c63a"
   },
   "outputs": [
    {
     "name": "stdout",
     "output_type": "stream",
     "text": [
      "accuracy is {'top1': 0.0, 'top3': 0.0, 'top10': 0.2}\n"
     ]
    }
   ],
   "source": [
    "def submit(results, url):\n",
    "    res = json.dumps(results)\n",
    "    response = requests.post(url, res)\n",
    "    result = json.loads(response.text)\n",
    "    print(f\"accuracy is {result['results']}\")\n",
    "mydata = dict()\n",
    "mydata['groupname'] = \"lesdesesperadas\"\n",
    "\n",
    "\n",
    "res = results\n",
    "mydata[\"images\"] = res\n",
    "submit(mydata, url)"
   ]
  }
 ],
 "metadata": {
  "accelerator": "GPU",
  "colab": {
   "collapsed_sections": [],
   "name": "Re_trained_Convolutional_Autoencoder.ipynb",
   "provenance": []
  },
  "kernelspec": {
   "display_name": "Python 3",
   "language": "python",
   "name": "python3"
  },
  "language_info": {
   "codemirror_mode": {
    "name": "ipython",
    "version": 3
   },
   "file_extension": ".py",
   "mimetype": "text/x-python",
   "name": "python",
   "nbconvert_exporter": "python",
   "pygments_lexer": "ipython3",
   "version": "3.8.5"
  },
  "toc": {
   "base_numbering": 1,
   "nav_menu": {},
   "number_sections": true,
   "sideBar": true,
   "skip_h1_title": false,
   "title_cell": "Table of Contents",
   "title_sidebar": "Contents",
   "toc_cell": false,
   "toc_position": {},
   "toc_section_display": true,
   "toc_window_display": false
  }
 },
 "nbformat": 4,
 "nbformat_minor": 1
}
