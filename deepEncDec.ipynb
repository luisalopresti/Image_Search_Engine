{
 "cells": [
  {
   "cell_type": "markdown",
   "metadata": {
    "id": "j7HcXO3TYzfc"
   },
   "source": [
    "I used as a reference Deep Learning (Ian Goodfellow and Yoshua Bengio and Aaron Courville). This code was run on a virtual environment on Visual Studio code, due to some incorrect dependancies. I installed a requirements.txt"
   ]
  },
  {
   "cell_type": "code",
   "execution_count": null,
   "metadata": {
    "id": "blocked-exclusion"
   },
   "outputs": [],
   "source": [
    "# Import all libraries needed for the models\n",
    "\n",
    "import numpy as np\n",
    "import os \n",
    "import tensorflow as tf\n",
    "import random\n",
    "import keras\n",
    "import matplotlib.pyplot as plt\n",
    "import matplotlib.image as mpimg\n",
    "from keras import layers\n",
    "from keras import backend as K\n",
    "from keras.models import Model\n",
    "\n",
    "from skimage.transform import resize"
   ]
  },
  {
   "cell_type": "markdown",
   "metadata": {
    "id": "40DnFsOZFdCm"
   },
   "source": [
    "# Pre-processing"
   ]
  },
  {
   "cell_type": "markdown",
   "metadata": {
    "id": "2YRuem3RYYmC"
   },
   "source": [
    "Loading the dataset I need."
   ]
  },
  {
   "cell_type": "code",
   "execution_count": null,
   "metadata": {
    "id": "-zSUrLrT6NuA"
   },
   "outputs": [],
   "source": [
    "class Dataset(object):\n",
    "    def __init__(self, data_path):\n",
    "        self.data_path = data_path\n",
    "        assert os.path.exists(self.data_path), 'Insert a valid path!'\n",
    "\n",
    "        # get class list\n",
    "        self.data_classes = os.listdir(self.data_path)\n",
    "\n",
    "        # init mapping dict\n",
    "        self.data_mapping = {}\n",
    "\n",
    "        # populate mapping dict\n",
    "        for c, c_name in enumerate(self.data_classes):\n",
    "            if not c_name.startswith('.'):\n",
    "                temp_path = os.path.join(self.data_path, c_name)\n",
    "                temp_images = os.listdir(temp_path)\n",
    "\n",
    "                for i in temp_images:\n",
    "                    if not i.startswith('.'):\n",
    "                        img_tmp = os.path.join(temp_path, i)\n",
    "\n",
    "                        if img_tmp.endswith('.jpg'):\n",
    "                            if c_name == 'distractor':\n",
    "                                self.data_mapping[img_tmp] = -1\n",
    "                            else:\n",
    "                                self.data_mapping[img_tmp] = int(c_name)\n",
    "\n",
    "        print('Loaded {:d} from {:s} images'.format(len(self.data_mapping.keys()),\n",
    "                                                    self.data_path))\n",
    "\n",
    "    def get_data_paths(self):\n",
    "        # returns a list of imgpaths and related classes\n",
    "        images = []\n",
    "        classes = []\n",
    "        for img_path in self.data_mapping.keys():\n",
    "            if img_path.endswith('.jpg'):\n",
    "                images.append(img_path)\n",
    "                classes.append(self.data_mapping[img_path])\n",
    "        return images, np.array(classes)\n",
    "\n",
    "\n",
    "    def num_classes(self):\n",
    "        # returns number of classes of the dataset\n",
    "        return len(self.data_classes)\n"
   ]
  },
  {
   "cell_type": "code",
   "execution_count": null,
   "metadata": {
    "colab": {
     "base_uri": "https://localhost:8080/"
    },
    "id": "4CH4vYbA6dJk",
    "outputId": "0505901c-1985-4d67-d19d-78caa0b9adc3"
   },
   "outputs": [
    {
     "name": "stdout",
     "output_type": "stream",
     "text": [
      "Loaded 697 from ./dataset/training images\n",
      "Loaded 534 from ./dataset/validation/gallery images\n",
      "Loaded 70 from ./dataset/validation/query images\n"
     ]
    }
   ],
   "source": [
    "data_path = './dataset'\n",
    "\n",
    "# Construction of the path of training\n",
    "training_path = os.path.join(data_path, \"training\")\n",
    "\n",
    "# Instantiation of Dataset object for training\n",
    "training_dataset = Dataset(data_path = training_path)\n",
    "\n",
    "# Retrieving training paths and classes\n",
    "training_paths, training_classes = training_dataset.get_data_paths()\n",
    "\n",
    "# Validation stuff\n",
    "\n",
    "# Construction of the path of validation (composed by gallery and query)\n",
    "validation_path = os.path.join(data_path, 'validation')\n",
    "gallery_path = os.path.join(validation_path, 'gallery')\n",
    "query_path = os.path.join(validation_path, 'query')\n",
    "\n",
    "# Instantiation of Dataset objects for gallery and query\n",
    "gallery_dataset = Dataset(data_path=gallery_path)\n",
    "query_dataset = Dataset(data_path=query_path)\n",
    "\n",
    "# Retrieving gallery and query paths and classes\n",
    "gallery_paths, gallery_classes = gallery_dataset.get_data_paths()\n",
    "query_paths, query_classes = query_dataset.get_data_paths()"
   ]
  },
  {
   "cell_type": "code",
   "execution_count": null,
   "metadata": {
    "id": "UBRgQOPhtdIv"
   },
   "outputs": [],
   "source": [
    "def import_images(paths):\n",
    "  '''\n",
    "  paths: all the images paths, obtained from dataset.get_data_paths()\n",
    "  '''\n",
    "  train_set = []\n",
    "  for cont, path in enumerate(paths):\n",
    "    img = mpimg.imread(path)\n",
    "    train_set.append(img)\n",
    "    print(cont)\n",
    "  return train_set\n",
    "\n",
    "def pre_process_images(unprocessed_images):\n",
    "  # Normalize images and put them in a list, which became a numpy array\n",
    "  train_set = []\n",
    "\n",
    "  size = (64, 64, 3)\n",
    "\n",
    "  for i in range(len(unprocessed_images)):\n",
    "    if len(unprocessed_images[i].shape) == 3:\n",
    "      img = resize(unprocessed_images[i], size).astype('float32')\n",
    "      train_set.append(img)\n",
    "    # Some of the images in the dataset has just 2 shape (maybe errors in dataset)\n",
    "\n",
    "  return train_set"
   ]
  },
  {
   "cell_type": "code",
   "execution_count": null,
   "metadata": {
    "id": "0CpHG3g1y65Q"
   },
   "outputs": [],
   "source": [
    "unprocessed_images = import_images(training_paths)\n",
    "train_set = pre_process_images(unprocessed_images)"
   ]
  },
  {
   "cell_type": "code",
   "execution_count": null,
   "metadata": {
    "colab": {
     "base_uri": "https://localhost:8080/",
     "height": 285
    },
    "id": "Eppa2K0IiHBW",
    "outputId": "edff308a-2cd2-44e9-b3fe-7116592a8622"
   },
   "outputs": [
    {
     "name": "stdout",
     "output_type": "stream",
     "text": [
      "[[[9.51164186e-01 6.31096840e-01 5.17051555e-02]\n",
      "  [9.66573775e-01 7.42279410e-01 1.53492644e-01]\n",
      "  [8.55698526e-01 5.98866403e-01 1.03899546e-01]\n",
      "  ...\n",
      "  [0.00000000e+00 0.00000000e+00 0.00000000e+00]\n",
      "  [0.00000000e+00 0.00000000e+00 0.00000000e+00]\n",
      "  [0.00000000e+00 0.00000000e+00 0.00000000e+00]]\n",
      "\n",
      " [[8.80331814e-01 5.49999058e-01 2.12009810e-02]\n",
      "  [9.24819052e-01 6.06645405e-01 9.46384817e-02]\n",
      "  [7.21634686e-01 4.03584570e-01 5.64692467e-02]\n",
      "  ...\n",
      "  [0.00000000e+00 0.00000000e+00 0.00000000e+00]\n",
      "  [0.00000000e+00 0.00000000e+00 0.00000000e+00]\n",
      "  [0.00000000e+00 0.00000000e+00 0.00000000e+00]]\n",
      "\n",
      " [[7.39123762e-01 4.00039256e-01 2.35294122e-02]\n",
      "  [8.20746183e-01 4.37469363e-01 3.90883498e-02]\n",
      "  [7.47346997e-01 3.70330691e-01 2.35294122e-02]\n",
      "  ...\n",
      "  [0.00000000e+00 0.00000000e+00 0.00000000e+00]\n",
      "  [0.00000000e+00 0.00000000e+00 0.00000000e+00]\n",
      "  [4.26719524e-03 4.26719524e-03 3.45626526e-04]]\n",
      "\n",
      " ...\n",
      "\n",
      " [[2.60502826e-02 2.35294122e-02 1.17647061e-02]\n",
      "  [3.94914225e-02 3.09177767e-02 1.90257356e-02]\n",
      "  [7.35906884e-02 4.64767143e-02 2.75553390e-02]\n",
      "  ...\n",
      "  [0.00000000e+00 0.00000000e+00 0.00000000e+00]\n",
      "  [0.00000000e+00 0.00000000e+00 0.00000000e+00]\n",
      "  [0.00000000e+00 0.00000000e+00 0.00000000e+00]]\n",
      "\n",
      " [[3.52941193e-02 3.13725509e-02 1.96078438e-02]\n",
      "  [4.48807068e-02 3.55420895e-02 2.35294122e-02]\n",
      "  [5.72562441e-02 4.31372561e-02 2.74864044e-02]\n",
      "  ...\n",
      "  [0.00000000e+00 0.00000000e+00 0.00000000e+00]\n",
      "  [0.00000000e+00 0.00000000e+00 0.00000000e+00]\n",
      "  [0.00000000e+00 0.00000000e+00 0.00000000e+00]]\n",
      "\n",
      " [[4.92953435e-02 3.92156877e-02 2.57659312e-02]\n",
      "  [4.92953435e-02 4.14522067e-02 2.74509806e-02]\n",
      "  [6.10600486e-02 4.70588244e-02 3.36617269e-02]\n",
      "  ...\n",
      "  [0.00000000e+00 0.00000000e+00 0.00000000e+00]\n",
      "  [0.00000000e+00 0.00000000e+00 0.00000000e+00]\n",
      "  [0.00000000e+00 0.00000000e+00 0.00000000e+00]]]\n"
     ]
    },
    {
     "data": {
      "text/plain": [
       "<matplotlib.image.AxesImage at 0x13de81e10>"
      ]
     },
     "execution_count": 6,
     "metadata": {
      "tags": []
     },
     "output_type": "execute_result"
    },
    {
     "data": {
      "image/png": "[encoded data removed]",
      "text/plain": [
       "<Figure size 432x288 with 1 Axes>"
      ]
     },
     "metadata": {
      "needs_background": "light",
      "tags": []
     },
     "output_type": "display_data"
    }
   ],
   "source": [
    "print(train_set[94])\n",
    "plt.imshow(train_set[94])"
   ]
  },
  {
   "cell_type": "markdown",
   "metadata": {
    "id": "dH_HnLd3FXrT"
   },
   "source": [
    "Instantiating the VAE model. More layers and smaller filters: we wanted to keep some granularity.  "
   ]
  },
  {
   "cell_type": "code",
   "execution_count": null,
   "metadata": {
    "id": "xITQLvUN4yz0",
    "outputId": "bb2ebe70-1ec8-4079-9ed4-b5acad426fd6"
   },
   "outputs": [
    {
     "name": "stdout",
     "output_type": "stream",
     "text": [
      "WARNING:tensorflow:From /usr/local/lib/python3.7/site-packages/tensorflow_core/python/ops/resource_variable_ops.py:1630: calling BaseResourceVariable.__init__ (from tensorflow.python.ops.resource_variable_ops) with constraint is deprecated and will be removed in a future version.\n",
      "Instructions for updating:\n",
      "If using Keras pass *_constraint arguments to layers.\n"
     ]
    }
   ],
   "source": [
    "img_shape = (64, 64, 3)\n",
    "batch_size = 16\n",
    "latent_dim = 2  # Dimensionality of the latent space: a plane\n",
    "\n",
    "input_img = keras.Input(shape=img_shape)\n",
    "\n",
    "x = layers.Conv2D(32, 3,\n",
    "                  padding='same', activation='relu')(input_img)\n",
    "x = layers.Conv2D(64, 3,\n",
    "                  padding='same', activation='relu',\n",
    "                  strides=(2, 2))(x)\n",
    "x = layers.Conv2D(64, 3,\n",
    "                  padding='same', activation='relu')(x)\n",
    "x = layers.Conv2D(64, 3,\n",
    "                  padding='same', activation='relu')(x)\n",
    "shape_before_flattening = K.int_shape(x)\n",
    "\n",
    "x = layers.Flatten()(x)\n",
    "x = layers.Dense(32, activation='relu')(x)\n",
    "\n",
    "z_mean = layers.Dense(latent_dim)(x)\n",
    "z_log_var = layers.Dense(latent_dim)(x)"
   ]
  },
  {
   "cell_type": "markdown",
   "metadata": {
    "id": "dFNgXfx_ae0z"
   },
   "source": [
    "Creating the sampling function in order to cluster within the latent space. "
   ]
  },
  {
   "cell_type": "code",
   "execution_count": null,
   "metadata": {
    "id": "XmbM9jMPqyBi"
   },
   "outputs": [],
   "source": [
    "def sampling(args):\n",
    "    z_mean, z_log_var = args\n",
    "    epsilon = K.random_normal(shape=(K.shape(z_mean)[0], latent_dim),\n",
    "                              mean=0., stddev=1.)\n",
    "    return z_mean + K.exp(z_log_var) * epsilon\n",
    "\n",
    "z = layers.Lambda(sampling)([z_mean, z_log_var])"
   ]
  },
  {
   "cell_type": "code",
   "execution_count": null,
   "metadata": {
    "id": "jcG9cPt66-Ke"
   },
   "outputs": [],
   "source": [
    "# This is the input where we will feed `z`.\n",
    "decoder_input = layers.Input(K.int_shape(z)[1:])\n",
    "\n",
    "# Upsampling to the correct number of units\n",
    "x = layers.Dense(np.prod(shape_before_flattening[1:]),\n",
    "                 activation='relu')(decoder_input)\n",
    "\n",
    "# Reshaping into an image of the same shape as the last Flatten layer\n",
    "x = layers.Reshape(shape_before_flattening[1:])(x)\n",
    "\n",
    "# Reverse operation to the initial stack of convolution layers: \n",
    "#a `Conv2DTranspose` layer with the corresponding parameters.\n",
    "x = layers.Conv2DTranspose(32, 3,\n",
    "                           padding='same', activation='relu',\n",
    "                           strides=(2, 2))(x)\n",
    "x = layers.Conv2D(3, 3,\n",
    "                  padding='same', activation='sigmoid')(x)\n",
    "# Feature map of the same size as the original input.\n",
    "# Below, the decoder model \n",
    "decoder = Model(decoder_input, x)\n",
    "\n",
    "# The decoder is applied to z in order to get the decoded z\n",
    "z_decoded = decoder(z)"
   ]
  },
  {
   "cell_type": "markdown",
   "metadata": {
    "id": "X1hni3Q9a6Hs"
   },
   "source": [
    "Below, we define the reconstruction loss (whose output we won't use, and the sampling loss). "
   ]
  },
  {
   "cell_type": "code",
   "execution_count": null,
   "metadata": {
    "id": "8Uvt6Fla7Ff-"
   },
   "outputs": [],
   "source": [
    "class CustomVariationalLayer(keras.layers.Layer):\n",
    "\n",
    "    def vae_loss(self, x, z_decoded):\n",
    "        x = K.flatten(x)\n",
    "        z_decoded = K.flatten(z_decoded)\n",
    "        xent_loss = keras.metrics.binary_crossentropy(x, z_decoded)\n",
    "        kl_loss = -5e-4 * K.mean(\n",
    "            1 + z_log_var - K.square(z_mean) - K.exp(z_log_var), axis=-1)\n",
    "        return K.mean(xent_loss + kl_loss)\n",
    "\n",
    "    def call(self, inputs):\n",
    "        x = inputs[0]\n",
    "        z_decoded = inputs[1]\n",
    "        loss = self.vae_loss(x, z_decoded)\n",
    "        self.add_loss(loss, inputs=inputs)\n",
    "        # We don't use this output.\n",
    "        return x\n",
    "\n",
    "# We call our custom layer on the input and the decoded output,\n",
    "# to obtain the final model output.\n",
    "y = CustomVariationalLayer()([input_img, z_decoded])"
   ]
  },
  {
   "cell_type": "code",
   "execution_count": null,
   "metadata": {
    "colab": {
     "base_uri": "https://localhost:8080/",
     "height": 650
    },
    "id": "bVacOquX7IhV",
    "outputId": "ff5afb9c-ce09-4404-ce64-4b8919f4dcd3"
   },
   "outputs": [
    {
     "name": "stderr",
     "output_type": "stream",
     "text": [
      "/usr/local/lib/python3.7/site-packages/keras/engine/training_utils.py:819: UserWarning: Output custom_variational_layer_1 missing from loss dictionary. We assume this was done on purpose. The fit and evaluate APIs will not be expecting any data to be passed to custom_variational_layer_1.\n",
      "  'be expecting any data to be passed to {0}.'.format(name))\n"
     ]
    },
    {
     "name": "stdout",
     "output_type": "stream",
     "text": [
      "Model: \"model_2\"\n",
      "__________________________________________________________________________________________________\n",
      "Layer (type)                    Output Shape         Param #     Connected to                     \n",
      "==================================================================================================\n",
      "input_1 (InputLayer)            (None, 64, 64, 3)    0                                            \n",
      "__________________________________________________________________________________________________\n",
      "conv2d_1 (Conv2D)               (None, 64, 64, 32)   896         input_1[0][0]                    \n",
      "__________________________________________________________________________________________________\n",
      "conv2d_2 (Conv2D)               (None, 32, 32, 64)   18496       conv2d_1[0][0]                   \n",
      "__________________________________________________________________________________________________\n",
      "conv2d_3 (Conv2D)               (None, 32, 32, 64)   36928       conv2d_2[0][0]                   \n",
      "__________________________________________________________________________________________________\n",
      "conv2d_4 (Conv2D)               (None, 32, 32, 64)   36928       conv2d_3[0][0]                   \n",
      "__________________________________________________________________________________________________\n",
      "flatten_1 (Flatten)             (None, 65536)        0           conv2d_4[0][0]                   \n",
      "__________________________________________________________________________________________________\n",
      "dense_1 (Dense)                 (None, 32)           2097184     flatten_1[0][0]                  \n",
      "__________________________________________________________________________________________________\n",
      "dense_2 (Dense)                 (None, 2)            66          dense_1[0][0]                    \n",
      "__________________________________________________________________________________________________\n",
      "dense_3 (Dense)                 (None, 2)            66          dense_1[0][0]                    \n",
      "__________________________________________________________________________________________________\n",
      "lambda_1 (Lambda)               (None, 2)            0           dense_2[0][0]                    \n",
      "                                                                 dense_3[0][0]                    \n",
      "__________________________________________________________________________________________________\n",
      "model_1 (Model)                 (None, 64, 64, 3)    215939      lambda_1[0][0]                   \n",
      "__________________________________________________________________________________________________\n",
      "custom_variational_layer_1 (Cus [(None, 64, 64, 3),  0           input_1[0][0]                    \n",
      "                                                                 model_1[1][0]                    \n",
      "==================================================================================================\n",
      "Total params: 2,406,503\n",
      "Trainable params: 2,406,503\n",
      "Non-trainable params: 0\n",
      "__________________________________________________________________________________________________\n",
      "WARNING:tensorflow:From /usr/local/lib/python3.7/site-packages/tensorflow_core/python/ops/math_grad.py:1424: where (from tensorflow.python.ops.array_ops) is deprecated and will be removed in a future version.\n",
      "Instructions for updating:\n",
      "Use tf.where in 2.0, which has the same broadcast rule as np.where\n",
      "WARNING:tensorflow:From /usr/local/lib/python3.7/site-packages/keras/backend/tensorflow_backend.py:422: The name tf.global_variables is deprecated. Please use tf.compat.v1.global_variables instead.\n",
      "\n",
      "Epoch 1/30\n",
      "695/695 [==============================] - 10s 14ms/step - loss: 279919.8037\n",
      "Epoch 2/30\n",
      "695/695 [==============================] - 9s 12ms/step - loss: 0.6540\n",
      "Epoch 3/30\n",
      "695/695 [==============================] - 8s 12ms/step - loss: 0.6484\n",
      "Epoch 4/30\n",
      "695/695 [==============================] - 8s 12ms/step - loss: 0.6422\n",
      "Epoch 5/30\n",
      "695/695 [==============================] - 8s 12ms/step - loss: 0.6393\n",
      "Epoch 6/30\n",
      "695/695 [==============================] - 8s 12ms/step - loss: 0.6362\n",
      "Epoch 7/30\n",
      "695/695 [==============================] - 9s 12ms/step - loss: 0.6359\n",
      "Epoch 8/30\n",
      "695/695 [==============================] - 9s 12ms/step - loss: 0.6357\n",
      "Epoch 9/30\n",
      "695/695 [==============================] - 9s 13ms/step - loss: 0.6385\n",
      "Epoch 10/30\n",
      "695/695 [==============================] - 9s 13ms/step - loss: 0.6395\n",
      "Epoch 11/30\n",
      "695/695 [==============================] - 9s 13ms/step - loss: 0.6342\n",
      "Epoch 12/30\n",
      "695/695 [==============================] - 9s 13ms/step - loss: 0.6238\n",
      "Epoch 13/30\n",
      "695/695 [==============================] - 9s 13ms/step - loss: 0.6197\n",
      "Epoch 14/30\n",
      "695/695 [==============================] - 8s 12ms/step - loss: 0.6170\n",
      "Epoch 15/30\n",
      "695/695 [==============================] - 9s 13ms/step - loss: 0.6148\n",
      "Epoch 16/30\n",
      "695/695 [==============================] - 10s 14ms/step - loss: 0.6145\n",
      "Epoch 17/30\n",
      "695/695 [==============================] - 11s 16ms/step - loss: 0.6126\n",
      "Epoch 18/30\n",
      "695/695 [==============================] - 9s 13ms/step - loss: 0.6136\n",
      "Epoch 19/30\n",
      "695/695 [==============================] - 9s 13ms/step - loss: 0.6117\n",
      "Epoch 20/30\n",
      "695/695 [==============================] - 9s 13ms/step - loss: 0.6123\n",
      "Epoch 21/30\n",
      "695/695 [==============================] - 9s 13ms/step - loss: 0.6112\n",
      "Epoch 22/30\n",
      "695/695 [==============================] - 9s 13ms/step - loss: 0.6114\n",
      "Epoch 23/30\n",
      "695/695 [==============================] - 9s 13ms/step - loss: 0.6101\n",
      "Epoch 24/30\n",
      "695/695 [==============================] - 9s 13ms/step - loss: 0.6101\n",
      "Epoch 25/30\n",
      "695/695 [==============================] - 9s 13ms/step - loss: 0.6095\n",
      "Epoch 26/30\n",
      "695/695 [==============================] - 9s 13ms/step - loss: 0.6095\n",
      "Epoch 27/30\n",
      "695/695 [==============================] - 11s 16ms/step - loss: 0.6089\n",
      "Epoch 28/30\n",
      "695/695 [==============================] - 9s 13ms/step - loss: 0.6084\n",
      "Epoch 29/30\n",
      "695/695 [==============================] - 9s 13ms/step - loss: 0.6084\n",
      "Epoch 30/30\n",
      "695/695 [==============================] - 9s 13ms/step - loss: 0.6077\n"
     ]
    },
    {
     "data": {
      "text/plain": [
       "<keras.callbacks.callbacks.History at 0x10ec1a610>"
      ]
     },
     "execution_count": 11,
     "metadata": {
      "tags": []
     },
     "output_type": "execute_result"
    }
   ],
   "source": [
    "vae = Model(input_img, y)\n",
    "vae.compile(optimizer='rmsprop', loss=None)\n",
    "vae.summary()\n",
    "\n",
    "train_set = np.asarray(train_set)\n",
    "vae.fit(x=train_set, y=None,\n",
    "        shuffle=True,\n",
    "        epochs=30,\n",
    "        batch_size=batch_size,\n",
    "        )\n"
   ]
  },
  {
   "cell_type": "code",
   "execution_count": null,
   "metadata": {
    "id": "edmYSJ_bYOE1"
   },
   "outputs": [],
   "source": []
  }
 ],
 "metadata": {
  "accelerator": "GPU",
  "colab": {
   "collapsed_sections": [],
   "name": "deepEncDec.ipynb",
   "provenance": []
  },
  "kernelspec": {
   "display_name": "Python 3",
   "language": "python",
   "name": "python3"
  },
  "language_info": {
   "codemirror_mode": {
    "name": "ipython",
    "version": 3
   },
   "file_extension": ".py",
   "mimetype": "text/x-python",
   "name": "python",
   "nbconvert_exporter": "python",
   "pygments_lexer": "ipython3",
   "version": "3.8.5"
  },
  "toc": {
   "base_numbering": 1,
   "nav_menu": {},
   "number_sections": true,
   "sideBar": true,
   "skip_h1_title": false,
   "title_cell": "Table of Contents",
   "title_sidebar": "Contents",
   "toc_cell": false,
   "toc_position": {},
   "toc_section_display": true,
   "toc_window_display": false
  }
 },
 "nbformat": 4,
 "nbformat_minor": 5
}
